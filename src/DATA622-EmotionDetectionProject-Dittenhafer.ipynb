{
 "cells": [
  {
   "cell_type": "code",
   "execution_count": 1,
   "metadata": {
    "collapsed": false
   },
   "outputs": [
    {
     "name": "stderr",
     "output_type": "stream",
     "text": [
      "Using Theano backend.\n"
     ]
    }
   ],
   "source": [
    "import datetime\n",
    "import Image\n",
    "import gc\n",
    "import numpy as np\n",
    "import os\n",
    "import random\n",
    "from scipy import misc\n",
    "import string\n",
    "import time\n",
    "\n",
    "# Set some Theano config before initializing\n",
    "os.environ[\"THEANO_FLAGS\"] = \"mode=FAST_RUN,device=cpu,floatX=float32,allow_gc=False,openmp=True\"\n",
    "import theano\n",
    "\n",
    "import matplotlib\n",
    "matplotlib.use('Agg')\n",
    "from matplotlib import pyplot as plt\n",
    "\n",
    "import emotion_model\n",
    "import dwdii_transforms\n",
    "\n",
    "random.seed(20275)"
   ]
  },
  {
   "cell_type": "code",
   "execution_count": 2,
   "metadata": {
    "collapsed": false
   },
   "outputs": [
    {
     "name": "stdout",
     "output_type": "stream",
     "text": [
      "device: cpu\n",
      "floatX: float32\n",
      "mode: FAST_RUN\n",
      "openmp: True\n",
      "allow_gc: False\n"
     ]
    }
   ],
   "source": [
    "print \"device:\", theano.config.device\n",
    "print \"floatX:\",  theano.config.floatX\n",
    "print \"mode:\", theano.config.mode\n",
    "print \"openmp:\", theano.config.openmp\n",
    "print \"allow_gc:\", theano.config.allow_gc"
   ]
  },
  {
   "cell_type": "code",
   "execution_count": 3,
   "metadata": {
    "collapsed": true
   },
   "outputs": [],
   "source": [
    "imagePath = \"/root/facial_expressions/images\"\n",
    "dataPath = \"/root/facial_expressions/data/legend.csv\"\n",
    "imgResize = (150, 150)"
   ]
  },
  {
   "cell_type": "code",
   "execution_count": 4,
   "metadata": {
    "collapsed": false,
    "scrolled": true
   },
   "outputs": [
    {
     "data": {
      "text/plain": [
       "['legend.csv', '500_picts_satz.csv']"
      ]
     },
     "execution_count": 4,
     "metadata": {},
     "output_type": "execute_result"
    }
   ],
   "source": [
    "os.listdir('/root/facial_expressions/data')"
   ]
  },
  {
   "cell_type": "markdown",
   "metadata": {},
   "source": [
    "### Load Training and Test Data"
   ]
  },
  {
   "cell_type": "code",
   "execution_count": 5,
   "metadata": {
    "collapsed": false
   },
   "outputs": [],
   "source": [
    "#emoMetaData = dwdii_transforms.load_training_metadata(dataPath, True)"
   ]
  },
  {
   "cell_type": "code",
   "execution_count": 6,
   "metadata": {
    "collapsed": false
   },
   "outputs": [],
   "source": [
    "#len(emoMetaData)"
   ]
  },
  {
   "cell_type": "code",
   "execution_count": 7,
   "metadata": {
    "collapsed": false
   },
   "outputs": [
    {
     "name": "stdout",
     "output_type": "stream",
     "text": [
      "0.000000: King_Abdullah_II_0001.jpg\n",
      "0.109890: Lleyton_Hewitt_0041.jpg\n",
      "0.219780: Dwarakish_30.jpg\n",
      "0.219780: Megawati_Sukarnoputri_0018.jpg\n",
      "0.329670: HrithikRoshan_174.jpg\n",
      "0.329670: Valerie_Thwaites_0001.jpg\n",
      "0.439560: HrithikRoshan_115.jpg\n",
      "0.439560: Dwarakish_180.jpg\n",
      "0.439560: HrithikRoshan_3.jpg\n",
      "0.439560: George_W_Bush_0422.jpg\n",
      "0.549451: Serena_Williams_0015.jpg\n",
      "0.659341: Bob_Riley_0001.jpg\n",
      "0.769231: Lindsay_Davenport_0012.jpg\n",
      "0.879121: HrithikRoshan_112.jpg\n",
      "0.879121: Sergio_Vieira_De_Mello_0002.jpg\n",
      "0.989011: Trent_Lott_0016.jpg\n",
      "(1817, 150, 150)\n",
      "(1817, 1)\n"
     ]
    }
   ],
   "source": [
    "maxData = 1820\n",
    "X_data, Y_data = dwdii_transforms.load_data(dataPath, imagePath, maxData = maxData, verboseFreq = 200, imgResize=imgResize)\n",
    "print X_data.shape\n",
    "print Y_data.shape"
   ]
  },
  {
   "cell_type": "markdown",
   "metadata": {},
   "source": [
    "### Transformations\n",
    "In this section, we will apply transformations to the existing images to increase of training data, as well as add a bit of noise in the hopes of improving the overall training activities."
   ]
  },
  {
   "cell_type": "code",
   "execution_count": 8,
   "metadata": {
    "collapsed": false
   },
   "outputs": [
    {
     "name": "stdout",
     "output_type": "stream",
     "text": [
      "(3634, 150, 150)\n",
      "(3634, 1)\n"
     ]
    }
   ],
   "source": [
    "newImgs = np.zeros([X_data.shape[0] * 2, X_data.shape[1], X_data.shape[2]])\n",
    "newYs = np.zeros([Y_data.shape[0] * 2, Y_data.shape[1]], dtype=np.int8)\n",
    "print newImgs.shape\n",
    "print newYs.shape"
   ]
  },
  {
   "cell_type": "code",
   "execution_count": null,
   "metadata": {
    "collapsed": false
   },
   "outputs": [],
   "source": [
    "ndx = 0\n",
    "for i in range(X_data.shape[0]):\n",
    "    img = X_data[i]\n",
    "    #print img[:]\n",
    "    #im = Image.fromarray(img)\n",
    "    #print img.shape\n",
    "    #s = list(img.shape)\n",
    "    #print len(s)\n",
    "    \n",
    "    #fig = plt.figure(figsize=(350,350))\n",
    "    #plt.imshow(img)\n",
    "    #plt.axis('off')\n",
    "    #plt.tight_layout()  \n",
    "    \n",
    "    #fig.savefig(\"test.png\", dpi=fig.dpi)\n",
    "    #plt.close(fig)\n",
    "    \n",
    "    #img *= 255.0\n",
    "    #img = img.astype(\"int8\")\n",
    "    \n",
    "    \n",
    "    img1 = dwdii_transforms.reflectY(img)\n",
    "    newImgs[ndx] = img1\n",
    "    newYs[ndx] = Y_data[i]\n",
    "    misc.imsave(\"test1.png\", img1)\n",
    "    ndx += 1\n",
    "    \n",
    "    img2 = dwdii_transforms.rotate5(img)\n",
    "    newImgs[ndx] = img2\n",
    "    newYs[ndx] = Y_data[i]\n",
    "    misc.imsave(\"test2.png\", img2)\n",
    "    ndx += 1\n",
    "\n",
    "    #break\n",
    "    \n",
    "print(\"Done\", str(datetime.datetime.now()))"
   ]
  },
  {
   "cell_type": "code",
   "execution_count": null,
   "metadata": {
    "collapsed": false
   },
   "outputs": [],
   "source": [
    "gc.collect()"
   ]
  },
  {
   "cell_type": "code",
   "execution_count": null,
   "metadata": {
    "collapsed": false
   },
   "outputs": [],
   "source": [
    "X_data2 = np.concatenate((X_data, newImgs))\n",
    "Y_data2 = np.concatenate((Y_data, newYs))\n",
    "print X_data2.shape\n",
    "print Y_data2.shape"
   ]
  },
  {
   "cell_type": "markdown",
   "metadata": {},
   "source": [
    "### Split Training/Test Sets"
   ]
  },
  {
   "cell_type": "markdown",
   "metadata": {},
   "source": [
    "The following code segment splits the data into training and test data sets. Currently this is just a standard 80/20 split for training and test respectively. A random.shuffle should be probably be added here as well."
   ]
  },
  {
   "cell_type": "code",
   "execution_count": 9,
   "metadata": {
    "collapsed": true
   },
   "outputs": [],
   "source": [
    "skippedTransforms = True\n",
    "if skippedTransforms:\n",
    "    X_data2 = X_data\n",
    "    Y_data2 = Y_data"
   ]
  },
  {
   "cell_type": "code",
   "execution_count": 10,
   "metadata": {
    "collapsed": false
   },
   "outputs": [
    {
     "name": "stdout",
     "output_type": "stream",
     "text": [
      "1453\n",
      "(1453, 150, 150)\n",
      "(364, 150, 150)\n",
      "(1453, 1)\n",
      "(364, 1)\n"
     ]
    }
   ],
   "source": [
    "# Split the data into Training and Test sets\n",
    "trainNdx = int(X_data2.shape[0] * .8)\n",
    "print trainNdx\n",
    "X_train, X_test = np.split(X_data2, [trainNdx])\n",
    "Y_train, Y_test = np.split(Y_data2, [trainNdx])\n",
    "print X_train.shape\n",
    "print X_test.shape\n",
    "\n",
    "print Y_train.shape\n",
    "print Y_test.shape"
   ]
  },
  {
   "cell_type": "markdown",
   "metadata": {},
   "source": [
    "### Define the Model\n",
    "In this section, we define the model. The `emotion_model` module contains the model definition itself. `emotion_model_v1` is a basic convolutional neural network."
   ]
  },
  {
   "cell_type": "code",
   "execution_count": 11,
   "metadata": {
    "collapsed": false
   },
   "outputs": [
    {
     "name": "stdout",
     "output_type": "stream",
     "text": [
      "{'sadness': 6, 'neutral': 2, 'contempt': 7, 'disgust': 1, 'anger': 0, 'surprise': 4, 'fear': 5, 'happiness': 3}\n",
      "8\n"
     ]
    }
   ],
   "source": [
    "# Map the emotions to integers for categorization later.\n",
    "emotions = dwdii_transforms.emotionNumerics()\n",
    "print emotions\n",
    "print len(emotions)"
   ]
  },
  {
   "cell_type": "code",
   "execution_count": 13,
   "metadata": {
    "collapsed": false
   },
   "outputs": [
    {
     "name": "stdout",
     "output_type": "stream",
     "text": [
      "____________________________________________________________________________________________________\n",
      "Layer (type)                       Output Shape        Param #     Connected to                     \n",
      "====================================================================================================\n",
      "convolution2d_1 (Convolution2D)    (None, 32, 148, 148)320         convolution2d_input_1[0][0]      \n",
      "____________________________________________________________________________________________________\n",
      "activation_1 (Activation)          (None, 32, 148, 148)0           convolution2d_1[0][0]            \n",
      "____________________________________________________________________________________________________\n",
      "maxpooling2d_1 (MaxPooling2D)      (None, 32, 74, 74)  0           activation_1[0][0]               \n",
      "____________________________________________________________________________________________________\n",
      "convolution2d_2 (Convolution2D)    (None, 32, 72, 72)  9248        maxpooling2d_1[0][0]             \n",
      "____________________________________________________________________________________________________\n",
      "activation_2 (Activation)          (None, 32, 72, 72)  0           convolution2d_2[0][0]            \n",
      "____________________________________________________________________________________________________\n",
      "maxpooling2d_2 (MaxPooling2D)      (None, 32, 36, 36)  0           activation_2[0][0]               \n",
      "____________________________________________________________________________________________________\n",
      "convolution2d_3 (Convolution2D)    (None, 64, 34, 34)  18496       maxpooling2d_2[0][0]             \n",
      "____________________________________________________________________________________________________\n",
      "activation_3 (Activation)          (None, 64, 34, 34)  0           convolution2d_3[0][0]            \n",
      "____________________________________________________________________________________________________\n",
      "maxpooling2d_3 (MaxPooling2D)      (None, 64, 17, 17)  0           activation_3[0][0]               \n",
      "____________________________________________________________________________________________________\n",
      "flatten_1 (Flatten)                (None, 18496)       0           maxpooling2d_3[0][0]             \n",
      "____________________________________________________________________________________________________\n",
      "dense_1 (Dense)                    (None, 64)          1183808     flatten_1[0][0]                  \n",
      "____________________________________________________________________________________________________\n",
      "activation_4 (Activation)          (None, 64)          0           dense_1[0][0]                    \n",
      "____________________________________________________________________________________________________\n",
      "dropout_1 (Dropout)                (None, 64)          0           activation_4[0][0]               \n",
      "____________________________________________________________________________________________________\n",
      "dense_2 (Dense)                    (None, 8)           520         dropout_1[0][0]                  \n",
      "____________________________________________________________________________________________________\n",
      "activation_5 (Activation)          (None, 8)           0           dense_2[0][0]                    \n",
      "====================================================================================================\n",
      "Total params: 1212392\n",
      "____________________________________________________________________________________________________\n",
      "None\n"
     ]
    }
   ],
   "source": [
    "#model = emotion_model.emotion_model_v3_2(len(emotions), verbose=True)\n",
    "model = emotion_model.cnn_model_jhamski(len(emotions), verbose=True, \n",
    "                                        input_shape=(1,X_train.shape[1],X_train.shape[2]))\n",
    "#print(model.summary())"
   ]
  },
  {
   "cell_type": "markdown",
   "metadata": {},
   "source": [
    "### Training the Model"
   ]
  },
  {
   "cell_type": "markdown",
   "metadata": {},
   "source": [
    "The following code segment trains the model using the `run_network` helper function. I seem to be hitting a memory issue (my interpretation), when I have batches above a certain threshold. Batches=10 work fine, but batches of 100 are too big. May need to allocate more RAM to the docker container."
   ]
  },
  {
   "cell_type": "code",
   "execution_count": 15,
   "metadata": {
    "collapsed": false
   },
   "outputs": [],
   "source": [
    "# Reshape to the appropriate shape for the CNN input\n",
    "testX = X_test.reshape(X_test.shape[0], 1, X_train.shape[1],X_train.shape[2])\n",
    "trainX = X_train.reshape(X_train.shape[0], 1, X_train.shape[1],X_train.shape[2])"
   ]
  },
  {
   "cell_type": "code",
   "execution_count": 16,
   "metadata": {
    "collapsed": false
   },
   "outputs": [],
   "source": [
    "loadWeights = False\n",
    "if loadWeights:\n",
    "    model.load_weights(\"dwdii-emo-01vjh-1-Cloud.hdf5\")"
   ]
  },
  {
   "cell_type": "code",
   "execution_count": 23,
   "metadata": {
    "collapsed": false
   },
   "outputs": [
    {
     "name": "stdout",
     "output_type": "stream",
     "text": [
      "Training start: 2016-11-28 01:59:11.696304\n",
      "(1453, 8)\n",
      "(364, 8)\n",
      "Training model...\n",
      "Train on 1453 samples, validate on 364 samples\n",
      "Epoch 1/10\n",
      "1453/1453 [==============================] - 55s - loss: 0.0137 - acc: 0.9807 - val_loss: 0.5012 - val_acc: 0.6484\n",
      "Epoch 2/10\n",
      "1453/1453 [==============================] - 55s - loss: 0.0170 - acc: 0.9732 - val_loss: 0.4920 - val_acc: 0.6593\n",
      "Epoch 3/10\n",
      "1453/1453 [==============================] - 55s - loss: 0.0131 - acc: 0.9780 - val_loss: 0.5109 - val_acc: 0.6703\n",
      "Epoch 4/10\n",
      "1453/1453 [==============================] - 55s - loss: 0.0155 - acc: 0.9732 - val_loss: 0.5050 - val_acc: 0.6566\n",
      "Epoch 5/10\n",
      "1453/1453 [==============================] - 55s - loss: 0.0151 - acc: 0.9738 - val_loss: 0.5281 - val_acc: 0.6374\n",
      "Epoch 6/10\n",
      "1453/1453 [==============================] - 55s - loss: 0.0156 - acc: 0.9794 - val_loss: 0.4674 - val_acc: 0.6511\n",
      "Epoch 7/10\n",
      "1453/1453 [==============================] - 55s - loss: 0.0163 - acc: 0.9759 - val_loss: 0.4828 - val_acc: 0.6511\n",
      "Epoch 8/10\n",
      "1453/1453 [==============================] - 55s - loss: 0.0112 - acc: 0.9869 - val_loss: 0.5363 - val_acc: 0.6648\n",
      "Epoch 9/10\n",
      "1453/1453 [==============================] - 55s - loss: 0.0133 - acc: 0.9780 - val_loss: 0.5063 - val_acc: 0.6648\n",
      "Epoch 10/10\n",
      "1453/1453 [==============================] - 55s - loss: 0.0126 - acc: 0.9807 - val_loss: 0.5171 - val_acc: 0.6429\n",
      "Training duration : 554.828438997\n",
      "Network's test score [loss, accuracy]: [0.51708218340690315, 0.6428571428571429]\n"
     ]
    }
   ],
   "source": [
    "print \"Training start: \" + str(datetime.datetime.now())\n",
    "m, h = emotion_model.run_network([trainX, testX, Y_train, Y_test], model, batch=300, epochs=10, verbosity=1)"
   ]
  },
  {
   "cell_type": "markdown",
   "metadata": {},
   "source": [
    "* Model v2: Network's test score [loss, accuracy]: [9.1067240715026863, 0.435] - 4474s \n",
    "  * #2: Network's test score [loss, accuracy]: [9.1067240715026863, 0.435] - 5469s \n",
    "* Model v3: Network's test score [loss, accuracy]: [8.0187525367736825, 0.50249999999999995] - 2499s\n",
    "* Model v4.1: Network's test score [loss, accuracy]: [9.1067240715026863, 0.435] - 2137s \n",
    "* Movel v4.2: Network's test score [loss, accuracy]: [8.0187525367736825, 0.50249999999999995] - 3108s \n",
    "* Model v5: Network's test score [loss, accuracy]: [6.9666682052612305, 0.19500000000000001] - 1682s \n",
    "* Model v6: Network's test score [loss, accuracy]: [1.7120025205612182, 0.23749999999999999] - 3020s \n",
    "* Model v7: Network's test score [loss, accuracy]: [7.9999716758728026, 0.14000000000000001] - 4610s \n",
    "* Model v8: Network's test score [loss, accuracy]: [1.6948303937911988, 0.19500000000000001] - 3313s \n",
    "* Model v6 w/ flatten: Network's test score [loss, accuracy]: [7.1107604598999021, 0.17249999999999999] - 3044s \n",
    "* Model v6 (Docker Cloud): Network's test score [loss, accuracy]: [11.153776299942534, 0.307974335472044] - 3597s \n",
    "* Model v3.1: Network's test score [loss, accuracy]: [1.5994336946608279, 0.22314049603196873] - 687s \n",
    "* Model v3.2: Network's test score [loss, accuracy]: [1.5697537031802502, 0.35989011021760792] - 772s\n",
    "* cnn_model_jhamski: Network's test score [loss, accuracy]: [0.31684105933367551, 0.34615384648134423] - 636s\n",
    " * Many epochs 150x150: Network's test score [loss, accuracy]: [0.51708218340690315, 0.6428571428571429]"
   ]
  },
  {
   "cell_type": "code",
   "execution_count": 24,
   "metadata": {
    "collapsed": false
   },
   "outputs": [],
   "source": [
    "model.save_weights(\"dwdii-emo-150vjh-Cloud.hdf5\", overwrite=True)"
   ]
  },
  {
   "cell_type": "code",
   "execution_count": null,
   "metadata": {
    "collapsed": false
   },
   "outputs": [],
   "source": []
  },
  {
   "cell_type": "markdown",
   "metadata": {
    "collapsed": true
   },
   "source": [
    "### References\n",
    "\n",
    "* OpenCV/CV2: http://askubuntu.com/questions/447409/how-to-install-opencv-2-9-for-python\n",
    "* Docker Commit: http://stackoverflow.com/questions/19585028/i-lose-my-data-when-the-container-exits\n",
    "  * docker ps -l\n",
    "  * docker commit <ContainerID> dittenhafer/dl"
   ]
  },
  {
   "cell_type": "code",
   "execution_count": null,
   "metadata": {
    "collapsed": true
   },
   "outputs": [],
   "source": []
  }
 ],
 "metadata": {
  "kernelspec": {
   "display_name": "Python 2",
   "language": "python",
   "name": "python2"
  },
  "language_info": {
   "codemirror_mode": {
    "name": "ipython",
    "version": 2
   },
   "file_extension": ".py",
   "mimetype": "text/x-python",
   "name": "python",
   "nbconvert_exporter": "python",
   "pygments_lexer": "ipython2",
   "version": "2.7.6"
  }
 },
 "nbformat": 4,
 "nbformat_minor": 0
}
