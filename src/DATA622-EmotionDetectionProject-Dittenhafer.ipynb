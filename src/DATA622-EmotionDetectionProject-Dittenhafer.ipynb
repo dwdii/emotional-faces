{
 "cells": [
  {
   "cell_type": "markdown",
   "metadata": {},
   "source": [
    "## Emotion Detection Neural Network Training\n",
    "Daniel Dittenhafer\n",
    "\n",
    "This notebook is the primary driver of training for my emotion detection neural network."
   ]
  },
  {
   "cell_type": "markdown",
   "metadata": {},
   "source": [
    "### Import References\n",
    "\n",
    "Here we import the needed python APIs and setup/config some Theano config."
   ]
  },
  {
   "cell_type": "code",
   "execution_count": 1,
   "metadata": {
    "collapsed": false
   },
   "outputs": [
    {
     "name": "stderr",
     "output_type": "stream",
     "text": [
      "Using Theano backend.\n"
     ]
    }
   ],
   "source": [
    "import datetime\n",
    "import Image\n",
    "import gc\n",
    "import numpy as np\n",
    "import os\n",
    "import random\n",
    "from scipy import misc\n",
    "import string\n",
    "import time\n",
    "\n",
    "# Set some Theano config before initializing\n",
    "os.environ[\"THEANO_FLAGS\"] = \"mode=FAST_RUN,device=cpu,floatX=float32,allow_gc=False,openmp=True\"\n",
    "import theano\n",
    "\n",
    "import matplotlib\n",
    "matplotlib.use('Agg')\n",
    "from matplotlib import pyplot as plt\n",
    "\n",
    "import emotion_model\n",
    "import dwdii_transforms\n",
    "\n",
    "random.seed(20275)"
   ]
  },
  {
   "cell_type": "code",
   "execution_count": 2,
   "metadata": {
    "collapsed": false
   },
   "outputs": [
    {
     "name": "stdout",
     "output_type": "stream",
     "text": [
      "device: cpu\n",
      "floatX: float32\n",
      "mode: FAST_RUN\n",
      "openmp: True\n",
      "allow_gc: False\n"
     ]
    }
   ],
   "source": [
    "print \"device:\", theano.config.device\n",
    "print \"floatX:\",  theano.config.floatX\n",
    "print \"mode:\", theano.config.mode\n",
    "print \"openmp:\", theano.config.openmp\n",
    "print \"allow_gc:\", theano.config.allow_gc"
   ]
  },
  {
   "cell_type": "code",
   "execution_count": 3,
   "metadata": {
    "collapsed": true
   },
   "outputs": [],
   "source": [
    "imagePath = \"/root/facial_expressions/images\"\n",
    "dataPath = \"/root/facial_expressions/data/legend.csv\"\n",
    "imgResize = (150, 150)"
   ]
  },
  {
   "cell_type": "code",
   "execution_count": 4,
   "metadata": {
    "collapsed": false,
    "scrolled": true
   },
   "outputs": [
    {
     "data": {
      "text/plain": [
       "['legend.csv', '500_picts_satz.csv']"
      ]
     },
     "execution_count": 4,
     "metadata": {},
     "output_type": "execute_result"
    }
   ],
   "source": [
    "os.listdir('/root/facial_expressions/data')"
   ]
  },
  {
   "cell_type": "markdown",
   "metadata": {},
   "source": [
    "### Load Training and Test Data\n",
    "\n",
    "In this section, the training/validation data is loaded. The `load_data` function pre-balances the data set by removing images from over-represented emotion classes."
   ]
  },
  {
   "cell_type": "code",
   "execution_count": 7,
   "metadata": {
    "collapsed": false
   },
   "outputs": [
    {
     "name": "stdout",
     "output_type": "stream",
     "text": [
      "0.000000: King_Abdullah_II_0001.jpg\r\n"
     ]
    },
    {
     "name": "stderr",
     "output_type": "stream",
     "text": [
      "dwdii_transforms.py:148: VisibleDeprecationWarning: using a non-integer number instead of an integer will result in an error in the future\n",
      "  X_data[ndx] = img\n",
      "dwdii_transforms.py:154: VisibleDeprecationWarning: using a non-integer number instead of an integer will result in an error in the future\n",
      "  Y_data[ndx] = emotionNdx\n"
     ]
    },
    {
     "name": "stdout",
     "output_type": "stream",
     "text": [
      "0.108401: Lleyton_Hewitt_0041.jpg\n",
      "0.216802: Dwarakish_30.jpg\n",
      "0.216802: Megawati_Sukarnoputri_0018.jpg\n",
      "0.325203: HrithikRoshan_174.jpg\n",
      "0.325203: Valerie_Thwaites_0001.jpg\n",
      "0.433604: HrithikRoshan_115.jpg\n",
      "0.433604: Dwarakish_180.jpg\n",
      "0.433604: HrithikRoshan_3.jpg\n",
      "0.433604: George_W_Bush_0422.jpg\n",
      "0.542005: Serena_Williams_0015.jpg\n",
      "0.650407: Bob_Riley_0001.jpg\n",
      "0.758808: Lindsay_Davenport_0012.jpg\n",
      "0.867209: HrithikRoshan_112.jpg\n",
      "0.867209: Sergio_Vieira_De_Mello_0002.jpg\n",
      "0.975610: Trent_Lott_0016.jpg\n",
      "(1817, 150, 150)\n",
      "(1817, 1)\n"
     ]
    },
    {
     "name": "stderr",
     "output_type": "stream",
     "text": [
      "dwdii_transforms.py:161: VisibleDeprecationWarning: using a non-integer number instead of an integer will result in an error in the future\n",
      "  Y_data = Y_data[:ndx]\n",
      "dwdii_transforms.py:162: VisibleDeprecationWarning: using a non-integer number instead of an integer will result in an error in the future\n",
      "  X_data = X_data[:ndx]\n"
     ]
    }
   ],
   "source": [
    "maxData = 1845\n",
    "X_data, Y_data = dwdii_transforms.load_data(dataPath, imagePath, maxData = maxData, verboseFreq = 200, imgResize=imgResize)\n",
    "print X_data.shape\n",
    "print Y_data.shape"
   ]
  },
  {
   "cell_type": "markdown",
   "metadata": {},
   "source": [
    "### Transformations\n",
    "In this section, we will apply transformations to the existing images to increase of training data, as well as add a bit of noise in the hopes of improving the overall training activities."
   ]
  },
  {
   "cell_type": "code",
   "execution_count": 8,
   "metadata": {
    "collapsed": false
   },
   "outputs": [
    {
     "name": "stdout",
     "output_type": "stream",
     "text": [
      "(38157, 150, 150)\n",
      "(38157, 1)\n"
     ]
    }
   ],
   "source": [
    "imgDataGenCount = 12\n",
    "transformCount = 9 + imgDataGenCount\n",
    "\n",
    "newImgs = np.zeros([X_data.shape[0] * transformCount, X_data.shape[1], X_data.shape[2]])\n",
    "newYs = np.zeros([Y_data.shape[0] * transformCount, Y_data.shape[1]], dtype=np.int8)\n",
    "print newImgs.shape\n",
    "print newYs.shape"
   ]
  },
  {
   "cell_type": "code",
   "execution_count": 9,
   "metadata": {
    "collapsed": false
   },
   "outputs": [
    {
     "data": {
      "text/plain": [
       "(150, 150)"
      ]
     },
     "execution_count": 9,
     "metadata": {},
     "output_type": "execute_result"
    }
   ],
   "source": [
    "img = X_data[0]\n",
    "img.shape"
   ]
  },
  {
   "cell_type": "code",
   "execution_count": 10,
   "metadata": {
    "collapsed": false,
    "scrolled": true
   },
   "outputs": [
    {
     "name": "stdout",
     "output_type": "stream",
     "text": [
      "('Done', '2016-12-17 05:03:51.548579')\n"
     ]
    }
   ],
   "source": [
    "ndx = 0\n",
    "for i in range(X_data.shape[0]):\n",
    "    img = X_data[i]\n",
    "    \n",
    "    img0 = dwdii_transforms.reflectY(img)\n",
    "    newImgs[ndx] = img0\n",
    "    newYs[ndx] = Y_data[i]\n",
    "    #misc.imsave(\"test0.png\", img0)\n",
    "    ndx += 1\n",
    "    \n",
    "    img1 = dwdii_transforms.cvDilate(img)\n",
    "    newImgs[ndx] = img1\n",
    "    newYs[ndx] = Y_data[i]\n",
    "    #misc.imsave(\"test1.png\", img1)\n",
    "    ndx += 1\n",
    "    \n",
    "    img2 = dwdii_transforms.cvErode(img)\n",
    "    newImgs[ndx] = img2\n",
    "    newYs[ndx] = Y_data[i]\n",
    "    #misc.imsave(\"test2.png\", img2)\n",
    "    ndx += 1\n",
    "    \n",
    "    img3 = dwdii_transforms.cvDilate2(img)\n",
    "    newImgs[ndx] = img3\n",
    "    newYs[ndx] = Y_data[i]\n",
    "    #misc.imsave(\"test3.png\", img3)\n",
    "    ndx += 1    \n",
    "    \n",
    "    #img4 = dwdii_transforms.cvMedianBlur(img)\n",
    "    #newImgs[ndx] = img4\n",
    "    #newYs[ndx] = Y_data[i]\n",
    "    #misc.imsave(\"test4.png\", img4)\n",
    "    #ndx += 1      \n",
    "    \n",
    "    img5 = dwdii_transforms.cvExcessiveSharpening(img)\n",
    "    newImgs[ndx] = img5\n",
    "    newYs[ndx] = Y_data[i]\n",
    "    #misc.imsave(\"test5.png\", img5)\n",
    "    ndx += 1    \n",
    "    \n",
    "    img6 = dwdii_transforms.cvEdgeEnhancement(img)\n",
    "    newImgs[ndx] = img6\n",
    "    newYs[ndx] = Y_data[i]\n",
    "    #misc.imsave(\"test6.png\", img6)\n",
    "    ndx += 1    \n",
    "\n",
    "    img7 = dwdii_transforms.cvBlurMotion1(img)\n",
    "    newImgs[ndx] = img7\n",
    "    newYs[ndx] = Y_data[i]\n",
    "    #misc.imsave(\"test7.png\", img7)\n",
    "    ndx += 1    \n",
    "    \n",
    "    img8 = dwdii_transforms.cvBlurMotion2(img)\n",
    "    newImgs[ndx] = img8\n",
    "    newYs[ndx] = Y_data[i]\n",
    "    #misc.imsave(\"test8.png\", img8)\n",
    "    ndx += 1      \n",
    "\n",
    "    img9 = dwdii_transforms.reflectY(img)\n",
    "    newImgs[ndx] = img9\n",
    "    #print img9.shape\n",
    "    newYs[ndx] = Y_data[i]\n",
    "    #misc.imsave(\"test9.png\", img9)\n",
    "    ndx += 1      \n",
    "    \n",
    "    for n in range(imgDataGenCount):\n",
    "        imgX = emotion_model.imageDataGenTransform(img, Y_data[i])\n",
    "        #print imgX\n",
    "        #print imgX.shape\n",
    "        imgX = imgX.reshape(150, 150)\n",
    "        #print imgX.shape\n",
    "        newImgs[ndx] = imgX\n",
    "        newYs[ndx] = Y_data[i]\n",
    "        #misc.imsave(\"testX.png\", imgX)\n",
    "        ndx += 1\n",
    "\n",
    "    #break\n",
    "    \n",
    "print(\"Done\", str(datetime.datetime.now()))"
   ]
  },
  {
   "cell_type": "code",
   "execution_count": 11,
   "metadata": {
    "collapsed": false
   },
   "outputs": [
    {
     "name": "stdout",
     "output_type": "stream",
     "text": [
      "1.11.2\n",
      "1.11.2\n"
     ]
    }
   ],
   "source": [
    "import numpy\n",
    "print numpy.version.version\n",
    "print numpy.__version__"
   ]
  },
  {
   "cell_type": "code",
   "execution_count": 12,
   "metadata": {
    "collapsed": false
   },
   "outputs": [
    {
     "data": {
      "text/plain": [
       "139"
      ]
     },
     "execution_count": 12,
     "metadata": {},
     "output_type": "execute_result"
    }
   ],
   "source": [
    "gc.collect()"
   ]
  },
  {
   "cell_type": "code",
   "execution_count": 13,
   "metadata": {
    "collapsed": false
   },
   "outputs": [
    {
     "name": "stdout",
     "output_type": "stream",
     "text": [
      "(39974, 150, 150)\n",
      "(39974, 1)\n"
     ]
    }
   ],
   "source": [
    "X_data2 = np.concatenate((X_data, newImgs))\n",
    "Y_data2 = np.concatenate((Y_data, newYs))\n",
    "print X_data2.shape\n",
    "print Y_data2.shape"
   ]
  },
  {
   "cell_type": "markdown",
   "metadata": {},
   "source": [
    "### Split Training/Test Sets"
   ]
  },
  {
   "cell_type": "markdown",
   "metadata": {},
   "source": [
    "The following code segment splits the data into training and test data sets. Currently this is a standard 80/20 split for training and test respectively after performing a random shuffle using the `unison_shuffled_copies` help method."
   ]
  },
  {
   "cell_type": "code",
   "execution_count": 14,
   "metadata": {
    "collapsed": true
   },
   "outputs": [],
   "source": [
    "skippedTransforms = False\n",
    "if skippedTransforms:\n",
    "    X_data2 = X_data\n",
    "    Y_data2 = Y_data"
   ]
  },
  {
   "cell_type": "code",
   "execution_count": 15,
   "metadata": {
    "collapsed": false
   },
   "outputs": [
    {
     "data": {
      "text/plain": [
       "9"
      ]
     },
     "execution_count": 15,
     "metadata": {},
     "output_type": "execute_result"
    }
   ],
   "source": [
    "gc.collect()"
   ]
  },
  {
   "cell_type": "code",
   "execution_count": 16,
   "metadata": {
    "collapsed": false
   },
   "outputs": [
    {
     "name": "stdout",
     "output_type": "stream",
     "text": [
      "31979\n",
      "(31979, 150, 150)\n",
      "(7995, 150, 150)\n",
      "(31979, 1)\n",
      "(7995, 1)\n"
     ]
    }
   ],
   "source": [
    "def unison_shuffled_copies(a, b):\n",
    "    \"\"\"http://stackoverflow.com/a/4602224/2604144\"\"\"\n",
    "    assert len(a) == len(b)\n",
    "    p = np.random.permutation(len(a))\n",
    "    return a[p], b[p]\n",
    "\n",
    "# First shuffle the data \n",
    "X_data2, Y_data2 = unison_shuffled_copies(X_data2, Y_data2)\n",
    "\n",
    "# Split the data into Training and Test sets\n",
    "trainNdx = int(X_data2.shape[0] * .8)\n",
    "print trainNdx\n",
    "X_train, X_test = np.split(X_data2, [trainNdx])\n",
    "Y_train, Y_test = np.split(Y_data2, [trainNdx])\n",
    "print X_train.shape\n",
    "print X_test.shape\n",
    "\n",
    "print Y_train.shape\n",
    "print Y_test.shape"
   ]
  },
  {
   "cell_type": "markdown",
   "metadata": {},
   "source": [
    "### Define the Model\n",
    "In this section, we define the model. The `emotion_model` module contains the model definition itself. `emotion_model_v1` is a basic convolutional neural network while our final model is a variation on a model shared by James Hamski (jh).\n",
    "\n",
    "The model is trained on 1 of 8 emotions."
   ]
  },
  {
   "cell_type": "code",
   "execution_count": 17,
   "metadata": {
    "collapsed": false
   },
   "outputs": [
    {
     "name": "stdout",
     "output_type": "stream",
     "text": [
      "{'sadness': 6, 'neutral': 2, 'contempt': 7, 'disgust': 1, 'anger': 0, 'surprise': 4, 'fear': 5, 'happiness': 3}\n",
      "8\n"
     ]
    }
   ],
   "source": [
    "# Map the emotions to integers for categorization later.\n",
    "emotions = dwdii_transforms.emotionNumerics()\n",
    "print emotions\n",
    "print len(emotions)"
   ]
  },
  {
   "cell_type": "markdown",
   "metadata": {},
   "source": [
    "Our model is a convolutional neural network with 4 hidden layers.  "
   ]
  },
  {
   "cell_type": "code",
   "execution_count": 18,
   "metadata": {
    "collapsed": false
   },
   "outputs": [
    {
     "name": "stdout",
     "output_type": "stream",
     "text": [
      "____________________________________________________________________________________________________\n",
      "Layer (type)                       Output Shape        Param #     Connected to                     \n",
      "====================================================================================================\n",
      "convolution2d_1 (Convolution2D)    (None, 32, 143, 143)2080        convolution2d_input_1[0][0]      \n",
      "____________________________________________________________________________________________________\n",
      "activation_1 (Activation)          (None, 32, 143, 143)0           convolution2d_1[0][0]            \n",
      "____________________________________________________________________________________________________\n",
      "maxpooling2d_1 (MaxPooling2D)      (None, 32, 71, 71)  0           activation_1[0][0]               \n",
      "____________________________________________________________________________________________________\n",
      "convolution2d_2 (Convolution2D)    (None, 32, 67, 67)  25632       maxpooling2d_1[0][0]             \n",
      "____________________________________________________________________________________________________\n",
      "activation_2 (Activation)          (None, 32, 67, 67)  0           convolution2d_2[0][0]            \n",
      "____________________________________________________________________________________________________\n",
      "maxpooling2d_2 (MaxPooling2D)      (None, 32, 33, 33)  0           activation_2[0][0]               \n",
      "____________________________________________________________________________________________________\n",
      "convolution2d_3 (Convolution2D)    (None, 64, 31, 31)  18496       maxpooling2d_2[0][0]             \n",
      "____________________________________________________________________________________________________\n",
      "activation_3 (Activation)          (None, 64, 31, 31)  0           convolution2d_3[0][0]            \n",
      "____________________________________________________________________________________________________\n",
      "maxpooling2d_3 (MaxPooling2D)      (None, 64, 15, 15)  0           activation_3[0][0]               \n",
      "____________________________________________________________________________________________________\n",
      "convolution2d_4 (Convolution2D)    (None, 64, 14, 14)  16448       maxpooling2d_3[0][0]             \n",
      "____________________________________________________________________________________________________\n",
      "activation_4 (Activation)          (None, 64, 14, 14)  0           convolution2d_4[0][0]            \n",
      "____________________________________________________________________________________________________\n",
      "maxpooling2d_4 (MaxPooling2D)      (None, 64, 7, 7)    0           activation_4[0][0]               \n",
      "____________________________________________________________________________________________________\n",
      "flatten_1 (Flatten)                (None, 3136)        0           maxpooling2d_4[0][0]             \n",
      "____________________________________________________________________________________________________\n",
      "dense_1 (Dense)                    (None, 64)          200768      flatten_1[0][0]                  \n",
      "____________________________________________________________________________________________________\n",
      "activation_5 (Activation)          (None, 64)          0           dense_1[0][0]                    \n",
      "____________________________________________________________________________________________________\n",
      "dense_2 (Dense)                    (None, 8)           520         activation_5[0][0]               \n",
      "____________________________________________________________________________________________________\n",
      "activation_6 (Activation)          (None, 8)           0           dense_2[0][0]                    \n",
      "====================================================================================================\n",
      "Total params: 263944\n",
      "____________________________________________________________________________________________________\n",
      "None\n"
     ]
    }
   ],
   "source": [
    "#model = emotion_model.emotion_model_v3_2(len(emotions), verbose=True)\n",
    "model = emotion_model.emotion_model_jh_v5(len(emotions), verbose=True, \n",
    "                                        input_shape=(1,X_train.shape[1],X_train.shape[2]))\n",
    "#print(model.summary())"
   ]
  },
  {
   "cell_type": "markdown",
   "metadata": {},
   "source": [
    "### Training the Model"
   ]
  },
  {
   "cell_type": "markdown",
   "metadata": {},
   "source": [
    "The following code segment trains the model using the `run_network` helper function. Previously, I was hitting a memory issue (my interpretation), when I have batches above a certain threshold. Batches=10 work fine, but batches of 100 are too big. May need to allocate more RAM to the docker container. I have since moved to a Docker Cloud / Amazon Web Services instance with increased memory and this issue has been mitigated."
   ]
  },
  {
   "cell_type": "code",
   "execution_count": 19,
   "metadata": {
    "collapsed": false
   },
   "outputs": [],
   "source": [
    "# Reshape to the appropriate shape for the CNN input\n",
    "testX = X_test.reshape(X_test.shape[0], 1, X_train.shape[1],X_train.shape[2])\n",
    "trainX = X_train.reshape(X_train.shape[0], 1, X_train.shape[1],X_train.shape[2])"
   ]
  },
  {
   "cell_type": "code",
   "execution_count": 20,
   "metadata": {
    "collapsed": false
   },
   "outputs": [],
   "source": [
    "loadWeights = False\n",
    "if loadWeights:\n",
    "    model.load_weights(\"dwdii-emo-01vjh-1-Cloud.hdf5\")"
   ]
  },
  {
   "cell_type": "code",
   "execution_count": null,
   "metadata": {
    "collapsed": false
   },
   "outputs": [
    {
     "name": "stdout",
     "output_type": "stream",
     "text": [
      "Training start: 2016-12-17 05:15:40.014472\n",
      "(31979, 8)\n",
      "(7995, 8)\n",
      "Training model...\n",
      "Train on 31979 samples, validate on 7995 samples\n",
      "Epoch 1/30\n",
      "31979/31979 [==============================] - 2431s - loss: 0.2908 - acc: 0.4111 - val_loss: 0.2697 - val_acc: 0.4642\n",
      "Epoch 2/30\n",
      "31979/31979 [==============================] - 2528s - loss: 0.2358 - acc: 0.5729 - val_loss: 0.2249 - val_acc: 0.5961\n",
      "Epoch 3/30\n",
      "31979/31979 [==============================] - 2639s - loss: 0.2035 - acc: 0.6421 - val_loss: 0.1873 - val_acc: 0.6782\n",
      "Epoch 4/30\n",
      "31979/31979 [==============================] - 2600s - loss: 0.1780 - acc: 0.6914 - val_loss: 0.1790 - val_acc: 0.6938\n",
      "Epoch 5/30\n",
      "31979/31979 [==============================] - 3354s - loss: 0.1554 - acc: 0.7350 - val_loss: 0.1569 - val_acc: 0.7335\n",
      "Epoch 6/30\n",
      "31979/31979 [==============================] - 12169s - loss: 0.1338 - acc: 0.7736 - val_loss: 0.1729 - val_acc: 0.6887\n",
      "Epoch 7/30\n",
      "31979/31979 [==============================] - 12201s - loss: 0.1166 - acc: 0.8038 - val_loss: 0.1350 - val_acc: 0.7765\n",
      "Epoch 8/30\n",
      "31979/31979 [==============================] - 12299s - loss: 0.0995 - acc: 0.8360 - val_loss: 0.1340 - val_acc: 0.7864\n",
      "Epoch 9/30\n",
      "11200/31979 [=========>....................] - ETA: 7025s - loss: 0.0829 - acc: 0.8669"
     ]
    }
   ],
   "source": [
    "print \"Training start: \" + str(datetime.datetime.now())\n",
    "m, h = emotion_model.run_network([trainX, testX, Y_train, Y_test], model, batch=200, epochs=30, verbosity=1)"
   ]
  },
  {
   "cell_type": "markdown",
   "metadata": {},
   "source": [
    "* Model v2: Network's test score [loss, accuracy]: [9.1067240715026863, 0.435] - 4474s \n",
    "  * #2: Network's test score [loss, accuracy]: [9.1067240715026863, 0.435] - 5469s \n",
    "* Model v3: Network's test score [loss, accuracy]: [8.0187525367736825, 0.50249999999999995] - 2499s\n",
    "* Model v4.1: Network's test score [loss, accuracy]: [9.1067240715026863, 0.435] - 2137s \n",
    "* Movel v4.2: Network's test score [loss, accuracy]: [8.0187525367736825, 0.50249999999999995] - 3108s \n",
    "* Model v5: Network's test score [loss, accuracy]: [6.9666682052612305, 0.19500000000000001] - 1682s \n",
    "* Model v6: Network's test score [loss, accuracy]: [1.7120025205612182, 0.23749999999999999] - 3020s \n",
    "* Model v7: Network's test score [loss, accuracy]: [7.9999716758728026, 0.14000000000000001] - 4610s \n",
    "* Model v8: Network's test score [loss, accuracy]: [1.6948303937911988, 0.19500000000000001] - 3313s \n",
    "* Model v6 w/ flatten: Network's test score [loss, accuracy]: [7.1107604598999021, 0.17249999999999999] - 3044s \n",
    "* Model v6 (Docker Cloud): Network's test score [loss, accuracy]: [11.153776299942534, 0.307974335472044] - 3597s \n",
    "* Model v3.1: Network's test score [loss, accuracy]: [1.5994336946608279, 0.22314049603196873] - 687s \n",
    "* Model v3.2: Network's test score [loss, accuracy]: [1.5697537031802502, 0.35989011021760792] - 772s\n",
    "* cnn_model_jhamski: Network's test score [loss, accuracy]: [0.31684105933367551, 0.34615384648134423] - 636s\n",
    " * Many epochs 150x150: Network's test score [loss, accuracy]: [0.51708218340690315, 0.6428571428571429]\n",
    "* emotion_model_jh_v2: Network's test score [loss, accuracy]: [0.27507745529690836, 0.55616438421484538] - 2027s\n",
    "  * Epoch x20: Network's test score [loss, accuracy]: [0.32478914950808435, 0.63287671265536793]\n",
    "* v3 epoch x40: Network's test score [loss, accuracy]: [0.078623215722688183, 0.88359303391384048]\n",
    "  * +20: Network's test score [loss, accuracy]: [0.070701496646681364, 0.91750687442713108]\n",
    "* v4 Epoch 20: Network's test score [loss, accuracy]: [0.23540275704827893, 0.61279229702942961]\n",
    "  * +80: Network's test score [loss, accuracy]: [0.1823677838099789, 0.8466299859988804]\n",
    "* v5 Epoch 20: Network's test score [loss, accuracy]: [0.13165531713295181, 0.78610729039781191]\n",
    "  * +80: Network's test score [loss, accuracy]: [0.097839370133615211, 0.9312242091603915]\n",
    "* v5 Epoch 27 - 13082 examples (8 transforms): val_loss: 0.1024 - val_acc: 0.9242\n",
    "* v5 Epoch 27 - 14536 examples (9 transforms): val_loss: 0.0941 - val_acc: 0.9265\n",
    "* v5 Epoch 20 - 29072 examples (19 tx): Network's test score [loss, accuracy]: [0.25542287444019252, 0.8000825536598789]\n",
    "  * + 5: Network's test score [loss, accuracy]: [0.26566209155840714, 0.82305998899284538]"
   ]
  },
  {
   "cell_type": "code",
   "execution_count": null,
   "metadata": {
    "collapsed": false
   },
   "outputs": [],
   "source": [
    "model.save_weights(\"dwdii-emo-150-jhv5-21tf-30e-Cloud.hdf5\", overwrite=True)"
   ]
  },
  {
   "cell_type": "markdown",
   "metadata": {
    "collapsed": false
   },
   "source": [
    "### Precision & Recall\n",
    "\n",
    "In this section we compute Precision and Recall metrics for each of the emotion classes."
   ]
  },
  {
   "cell_type": "code",
   "execution_count": null,
   "metadata": {
    "collapsed": true
   },
   "outputs": [],
   "source": [
    "predictOutput = model.predict(testX)"
   ]
  },
  {
   "cell_type": "code",
   "execution_count": null,
   "metadata": {
    "collapsed": false
   },
   "outputs": [],
   "source": [
    "predictOutput[0]"
   ]
  },
  {
   "cell_type": "code",
   "execution_count": null,
   "metadata": {
    "collapsed": false
   },
   "outputs": [],
   "source": [
    "import collections\n",
    "prMetrics = {}\n",
    "\n",
    "# For each emotion\n",
    "for e in emotions.keys():\n",
    "    prMetrics[e] = collections.defaultdict(int)   \n",
    "print prMetrics\n",
    "\n",
    "numEmo = dwdii_transforms.numericEmotions()\n",
    "print numEmo"
   ]
  },
  {
   "cell_type": "code",
   "execution_count": null,
   "metadata": {
    "collapsed": false
   },
   "outputs": [],
   "source": [
    "# For each predicted image\n",
    "for i in range(len(predictOutput)):\n",
    "\n",
    "    arPred = np.array(predictOutput[i])\n",
    "    predictionProb = arPred.max()\n",
    "    predictionNdx = arPred.argmax()\n",
    "    predictedEmo = numEmo[predictionNdx]\n",
    "\n",
    "    # True Positives\n",
    "    if predictionNdx == Y_test[i]:\n",
    "        prMetrics[predictedEmo][\"TruePos\"] += 1.0\n",
    "    # False Positives\n",
    "    else:\n",
    "        prMetrics[predictedEmo][\"FalsePos\"] += 1.0\n",
    "        \n",
    "# Look for false negatives\n",
    "for i in range(len(Y_test)):\n",
    "    \n",
    "    arPred = np.array(predictOutput[i])\n",
    "    predictionProb = arPred.max()\n",
    "    predictionNdx = arPred.argmax()\n",
    "    predictedEmo = numEmo[predictionNdx]\n",
    "    \n",
    "    \n",
    "    yEmo = numEmo[int(Y_test[i])]\n",
    "    if Y_test[i] == predictionNdx:\n",
    "        # Ok\n",
    "        pass\n",
    "    else:\n",
    "        prMetrics[yEmo][\"FalseNeg\"] += 1.0"
   ]
  },
  {
   "cell_type": "code",
   "execution_count": null,
   "metadata": {
    "collapsed": false
   },
   "outputs": [],
   "source": [
    "prMetrics"
   ]
  },
  {
   "cell_type": "code",
   "execution_count": null,
   "metadata": {
    "collapsed": false
   },
   "outputs": [],
   "source": [
    "emotionPrecision = {}\n",
    "emotionRecall = {}\n",
    "for p in prMetrics:\n",
    "    emotionPrecision[p] = prMetrics[p][\"TruePos\"] / ( prMetrics[p][\"TruePos\"] + prMetrics[p][\"FalsePos\"])\n",
    "    emotionRecall[p] = prMetrics[p][\"TruePos\"] /( prMetrics[p][\"TruePos\"] + prMetrics[p][\"FalseNeg\"])\n",
    "    \n",
    "print \"Precision by Emotion\"\n",
    "print \"--------------------\"\n",
    "for e in emotionPrecision:\n",
    "    print e, emotionPrecision[e]\n",
    "print\n",
    "print \"Recall by Emotion\"\n",
    "print \"--------------------\"\n",
    "for e in emotionRecall:\n",
    "    print e, emotionRecall[e]    "
   ]
  },
  {
   "cell_type": "markdown",
   "metadata": {
    "collapsed": true
   },
   "source": [
    "### References\n",
    "\n",
    "* OpenCV/CV2: http://askubuntu.com/questions/447409/how-to-install-opencv-2-9-for-python\n",
    "* Docker Commit: http://stackoverflow.com/questions/19585028/i-lose-my-data-when-the-container-exits\n",
    "  * docker ps -l\n",
    "  * docker commit <ContainerID> dittenhafer/dl\n",
    "* http://machinelearningmastery.com/classification-accuracy-is-not-enough-more-performance-measures-you-can-use/"
   ]
  },
  {
   "cell_type": "code",
   "execution_count": null,
   "metadata": {
    "collapsed": true
   },
   "outputs": [],
   "source": []
  }
 ],
 "metadata": {
  "kernelspec": {
   "display_name": "Python 2",
   "language": "python",
   "name": "python2"
  },
  "language_info": {
   "codemirror_mode": {
    "name": "ipython",
    "version": 2
   },
   "file_extension": ".py",
   "mimetype": "text/x-python",
   "name": "python",
   "nbconvert_exporter": "python",
   "pygments_lexer": "ipython2",
   "version": "2.7.6"
  }
 },
 "nbformat": 4,
 "nbformat_minor": 0
}
