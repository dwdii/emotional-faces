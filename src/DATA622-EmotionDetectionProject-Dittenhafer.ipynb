{
 "cells": [
  {
   "cell_type": "code",
   "execution_count": 1,
   "metadata": {
    "collapsed": false
   },
   "outputs": [
    {
     "name": "stderr",
     "output_type": "stream",
     "text": [
      "Using Theano backend.\n"
     ]
    }
   ],
   "source": [
    "import datetime\n",
    "import Image\n",
    "import gc\n",
    "import numpy as np\n",
    "import os\n",
    "import random\n",
    "from scipy import misc\n",
    "import string\n",
    "import time\n",
    "\n",
    "# Set some Theano config before initializing\n",
    "os.environ[\"THEANO_FLAGS\"] = \"mode=FAST_RUN,device=cpu,floatX=float32,allow_gc=False,openmp=True\"\n",
    "import theano\n",
    "\n",
    "import matplotlib\n",
    "matplotlib.use('Agg')\n",
    "from matplotlib import pyplot as plt\n",
    "\n",
    "import emotion_model\n",
    "import dwdii_transforms\n",
    "\n",
    "random.seed(20275)"
   ]
  },
  {
   "cell_type": "code",
   "execution_count": 2,
   "metadata": {
    "collapsed": false
   },
   "outputs": [
    {
     "name": "stdout",
     "output_type": "stream",
     "text": [
      "device: cpu\n",
      "floatX: float32\n",
      "mode: FAST_RUN\n",
      "openmp: True\n",
      "allow_gc: False\n"
     ]
    }
   ],
   "source": [
    "print \"device:\", theano.config.device\n",
    "print \"floatX:\",  theano.config.floatX\n",
    "print \"mode:\", theano.config.mode\n",
    "print \"openmp:\", theano.config.openmp\n",
    "print \"allow_gc:\", theano.config.allow_gc"
   ]
  },
  {
   "cell_type": "code",
   "execution_count": 3,
   "metadata": {
    "collapsed": true
   },
   "outputs": [],
   "source": [
    "imagePath = \"/root/facial_expressions/images\"\n",
    "dataPath = \"/root/facial_expressions/data/legend.csv\"\n",
    "imgResize = (150, 150)"
   ]
  },
  {
   "cell_type": "code",
   "execution_count": 4,
   "metadata": {
    "collapsed": false,
    "scrolled": true
   },
   "outputs": [
    {
     "data": {
      "text/plain": [
       "['legend.csv', '500_picts_satz.csv']"
      ]
     },
     "execution_count": 4,
     "metadata": {},
     "output_type": "execute_result"
    }
   ],
   "source": [
    "os.listdir('/root/facial_expressions/data')"
   ]
  },
  {
   "cell_type": "markdown",
   "metadata": {},
   "source": [
    "### Load Training and Test Data"
   ]
  },
  {
   "cell_type": "code",
   "execution_count": 5,
   "metadata": {
    "collapsed": false
   },
   "outputs": [],
   "source": [
    "#emoMetaData = dwdii_transforms.load_training_metadata(dataPath, True)"
   ]
  },
  {
   "cell_type": "code",
   "execution_count": 6,
   "metadata": {
    "collapsed": false
   },
   "outputs": [],
   "source": [
    "#len(emoMetaData)"
   ]
  },
  {
   "cell_type": "code",
   "execution_count": 7,
   "metadata": {
    "collapsed": false
   },
   "outputs": [
    {
     "name": "stdout",
     "output_type": "stream",
     "text": [
      "0.000000: King_Abdullah_II_0001.jpg\n",
      "0.109709: Lleyton_Hewitt_0041.jpg\n",
      "0.219419: Dwarakish_30.jpg\n",
      "0.219419: Megawati_Sukarnoputri_0018.jpg\n",
      "0.329128: HrithikRoshan_174.jpg\n",
      "0.329128: Valerie_Thwaites_0001.jpg\n",
      "0.438837: HrithikRoshan_115.jpg\n",
      "0.438837: Dwarakish_180.jpg\n",
      "0.438837: HrithikRoshan_3.jpg\n",
      "0.438837: George_W_Bush_0422.jpg\n",
      "0.548546: Serena_Williams_0015.jpg\n",
      "0.658256: Bob_Riley_0001.jpg\n",
      "0.767965: Lindsay_Davenport_0012.jpg\n",
      "0.877674: HrithikRoshan_112.jpg\n",
      "0.877674: Sergio_Vieira_De_Mello_0002.jpg\n",
      "0.987383: Trent_Lott_0016.jpg\n",
      "(1817, 150, 150)\n",
      "(1817, 1)\n"
     ]
    }
   ],
   "source": [
    "maxData = 1823\n",
    "X_data, Y_data = dwdii_transforms.load_data(dataPath, imagePath, maxData = maxData, verboseFreq = 200, imgResize=imgResize)\n",
    "print X_data.shape\n",
    "print Y_data.shape"
   ]
  },
  {
   "cell_type": "markdown",
   "metadata": {},
   "source": [
    "### Transformations\n",
    "In this section, we will apply transformations to the existing images to increase of training data, as well as add a bit of noise in the hopes of improving the overall training activities."
   ]
  },
  {
   "cell_type": "code",
   "execution_count": 13,
   "metadata": {
    "collapsed": false
   },
   "outputs": [
    {
     "name": "stdout",
     "output_type": "stream",
     "text": [
      "(14536, 150, 150)\n",
      "(14536, 1)\n"
     ]
    }
   ],
   "source": [
    "newImgs = np.zeros([X_data.shape[0] * 8, X_data.shape[1], X_data.shape[2]])\n",
    "newYs = np.zeros([Y_data.shape[0] * 8, Y_data.shape[1]], dtype=np.int8)\n",
    "print newImgs.shape\n",
    "print newYs.shape"
   ]
  },
  {
   "cell_type": "code",
   "execution_count": 14,
   "metadata": {
    "collapsed": false
   },
   "outputs": [
    {
     "name": "stdout",
     "output_type": "stream",
     "text": [
      "('Done', '2016-12-03 02:38:31.752768')\n"
     ]
    }
   ],
   "source": [
    "ndx = 0\n",
    "for i in range(X_data.shape[0]):\n",
    "    img = X_data[i]\n",
    "    \n",
    "    img0 = dwdii_transforms.reflectY(img)\n",
    "    newImgs[ndx] = img0\n",
    "    newYs[ndx] = Y_data[i]\n",
    "    #misc.imsave(\"test0.png\", img0)\n",
    "    ndx += 1\n",
    "    \n",
    "    img1 = dwdii_transforms.cvDilate(img)\n",
    "    newImgs[ndx] = img1\n",
    "    newYs[ndx] = Y_data[i]\n",
    "    #misc.imsave(\"test1.png\", img1)\n",
    "    ndx += 1\n",
    "    \n",
    "    img2 = dwdii_transforms.cvErode(img)\n",
    "    newImgs[ndx] = img2\n",
    "    newYs[ndx] = Y_data[i]\n",
    "    #misc.imsave(\"test2.png\", img2)\n",
    "    ndx += 1\n",
    "    \n",
    "    img3 = dwdii_transforms.cvDilate2(img)\n",
    "    newImgs[ndx] = img3\n",
    "    newYs[ndx] = Y_data[i]\n",
    "    #misc.imsave(\"test3.png\", img3)\n",
    "    ndx += 1    \n",
    "    \n",
    "    #img4 = dwdii_transforms.cvMedianBlur(img)\n",
    "    #newImgs[ndx] = img4\n",
    "    #newYs[ndx] = Y_data[i]\n",
    "    #misc.imsave(\"test4.png\", img4)\n",
    "    #ndx += 1      \n",
    "    \n",
    "    img5 = dwdii_transforms.cvExcessiveSharpening(img)\n",
    "    newImgs[ndx] = img5\n",
    "    newYs[ndx] = Y_data[i]\n",
    "    #misc.imsave(\"test5.png\", img5)\n",
    "    ndx += 1    \n",
    "    \n",
    "    img6 = dwdii_transforms.cvEdgeEnhancement(img)\n",
    "    newImgs[ndx] = img6\n",
    "    newYs[ndx] = Y_data[i]\n",
    "    #misc.imsave(\"test6.png\", img6)\n",
    "    ndx += 1    \n",
    "\n",
    "    img7 = dwdii_transforms.cvBlurMotion1(img)\n",
    "    newImgs[ndx] = img7\n",
    "    newYs[ndx] = Y_data[i]\n",
    "    #misc.imsave(\"test7.png\", img7)\n",
    "    ndx += 1    \n",
    "    \n",
    "    img8 = dwdii_transforms.cvBlurMotion2(img)\n",
    "    newImgs[ndx] = img8\n",
    "    newYs[ndx] = Y_data[i]\n",
    "    #misc.imsave(\"test8.png\", img8)\n",
    "    ndx += 1      \n",
    "\n",
    "    #break\n",
    "    \n",
    "print(\"Done\", str(datetime.datetime.now()))"
   ]
  },
  {
   "cell_type": "code",
   "execution_count": 15,
   "metadata": {
    "collapsed": false
   },
   "outputs": [
    {
     "data": {
      "text/plain": [
       "9"
      ]
     },
     "execution_count": 15,
     "metadata": {},
     "output_type": "execute_result"
    }
   ],
   "source": [
    "gc.collect()"
   ]
  },
  {
   "cell_type": "code",
   "execution_count": 16,
   "metadata": {
    "collapsed": false
   },
   "outputs": [
    {
     "name": "stdout",
     "output_type": "stream",
     "text": [
      "(16353, 150, 150)\n",
      "(16353, 1)\n"
     ]
    }
   ],
   "source": [
    "X_data2 = np.concatenate((X_data, newImgs))\n",
    "Y_data2 = np.concatenate((Y_data, newYs))\n",
    "print X_data2.shape\n",
    "print Y_data2.shape"
   ]
  },
  {
   "cell_type": "markdown",
   "metadata": {},
   "source": [
    "### Split Training/Test Sets"
   ]
  },
  {
   "cell_type": "markdown",
   "metadata": {},
   "source": [
    "The following code segment splits the data into training and test data sets. Currently this is just a standard 80/20 split for training and test respectively. A random.shuffle should be probably be added here as well."
   ]
  },
  {
   "cell_type": "code",
   "execution_count": 17,
   "metadata": {
    "collapsed": true
   },
   "outputs": [],
   "source": [
    "skippedTransforms = False\n",
    "if skippedTransforms:\n",
    "    X_data2 = X_data\n",
    "    Y_data2 = Y_data"
   ]
  },
  {
   "cell_type": "code",
   "execution_count": 19,
   "metadata": {
    "collapsed": false
   },
   "outputs": [
    {
     "name": "stdout",
     "output_type": "stream",
     "text": [
      "13082\n",
      "(13082, 150, 150)\n",
      "(3271, 150, 150)\n",
      "(13082, 1)\n",
      "(3271, 1)\n"
     ]
    }
   ],
   "source": [
    "def unison_shuffled_copies(a, b):\n",
    "    \"\"\"http://stackoverflow.com/a/4602224/2604144\"\"\"\n",
    "    assert len(a) == len(b)\n",
    "    p = np.random.permutation(len(a))\n",
    "    return a[p], b[p]\n",
    "\n",
    "# First shuffle the data \n",
    "X_data2, Y_data2 = unison_shuffled_copies(X_data2, Y_data2)\n",
    "\n",
    "# Split the data into Training and Test sets\n",
    "trainNdx = int(X_data2.shape[0] * .8)\n",
    "print trainNdx\n",
    "X_train, X_test = np.split(X_data2, [trainNdx])\n",
    "Y_train, Y_test = np.split(Y_data2, [trainNdx])\n",
    "print X_train.shape\n",
    "print X_test.shape\n",
    "\n",
    "print Y_train.shape\n",
    "print Y_test.shape"
   ]
  },
  {
   "cell_type": "markdown",
   "metadata": {},
   "source": [
    "### Define the Model\n",
    "In this section, we define the model. The `emotion_model` module contains the model definition itself. `emotion_model_v1` is a basic convolutional neural network."
   ]
  },
  {
   "cell_type": "code",
   "execution_count": 20,
   "metadata": {
    "collapsed": false
   },
   "outputs": [
    {
     "name": "stdout",
     "output_type": "stream",
     "text": [
      "{'sadness': 6, 'neutral': 2, 'contempt': 7, 'disgust': 1, 'anger': 0, 'surprise': 4, 'fear': 5, 'happiness': 3}\n",
      "8\n"
     ]
    }
   ],
   "source": [
    "# Map the emotions to integers for categorization later.\n",
    "emotions = dwdii_transforms.emotionNumerics()\n",
    "print emotions\n",
    "print len(emotions)"
   ]
  },
  {
   "cell_type": "code",
   "execution_count": 21,
   "metadata": {
    "collapsed": false
   },
   "outputs": [
    {
     "name": "stdout",
     "output_type": "stream",
     "text": [
      "____________________________________________________________________________________________________\n",
      "Layer (type)                       Output Shape        Param #     Connected to                     \n",
      "====================================================================================================\n",
      "convolution2d_1 (Convolution2D)    (None, 32, 143, 143)2080        convolution2d_input_1[0][0]      \n",
      "____________________________________________________________________________________________________\n",
      "activation_1 (Activation)          (None, 32, 143, 143)0           convolution2d_1[0][0]            \n",
      "____________________________________________________________________________________________________\n",
      "maxpooling2d_1 (MaxPooling2D)      (None, 32, 71, 71)  0           activation_1[0][0]               \n",
      "____________________________________________________________________________________________________\n",
      "convolution2d_2 (Convolution2D)    (None, 32, 67, 67)  25632       maxpooling2d_1[0][0]             \n",
      "____________________________________________________________________________________________________\n",
      "activation_2 (Activation)          (None, 32, 67, 67)  0           convolution2d_2[0][0]            \n",
      "____________________________________________________________________________________________________\n",
      "maxpooling2d_2 (MaxPooling2D)      (None, 32, 33, 33)  0           activation_2[0][0]               \n",
      "____________________________________________________________________________________________________\n",
      "convolution2d_3 (Convolution2D)    (None, 64, 31, 31)  18496       maxpooling2d_2[0][0]             \n",
      "____________________________________________________________________________________________________\n",
      "activation_3 (Activation)          (None, 64, 31, 31)  0           convolution2d_3[0][0]            \n",
      "____________________________________________________________________________________________________\n",
      "maxpooling2d_3 (MaxPooling2D)      (None, 64, 15, 15)  0           activation_3[0][0]               \n",
      "____________________________________________________________________________________________________\n",
      "convolution2d_4 (Convolution2D)    (None, 64, 14, 14)  16448       maxpooling2d_3[0][0]             \n",
      "____________________________________________________________________________________________________\n",
      "activation_4 (Activation)          (None, 64, 14, 14)  0           convolution2d_4[0][0]            \n",
      "____________________________________________________________________________________________________\n",
      "maxpooling2d_4 (MaxPooling2D)      (None, 64, 7, 7)    0           activation_4[0][0]               \n",
      "____________________________________________________________________________________________________\n",
      "flatten_1 (Flatten)                (None, 3136)        0           maxpooling2d_4[0][0]             \n",
      "____________________________________________________________________________________________________\n",
      "dense_1 (Dense)                    (None, 64)          200768      flatten_1[0][0]                  \n",
      "____________________________________________________________________________________________________\n",
      "activation_5 (Activation)          (None, 64)          0           dense_1[0][0]                    \n",
      "____________________________________________________________________________________________________\n",
      "dense_2 (Dense)                    (None, 8)           520         activation_5[0][0]               \n",
      "____________________________________________________________________________________________________\n",
      "activation_6 (Activation)          (None, 8)           0           dense_2[0][0]                    \n",
      "====================================================================================================\n",
      "Total params: 263944\n",
      "____________________________________________________________________________________________________\n",
      "None\n"
     ]
    }
   ],
   "source": [
    "#model = emotion_model.emotion_model_v3_2(len(emotions), verbose=True)\n",
    "model = emotion_model.emotion_model_jh_v5(len(emotions), verbose=True, \n",
    "                                        input_shape=(1,X_train.shape[1],X_train.shape[2]))\n",
    "#print(model.summary())"
   ]
  },
  {
   "cell_type": "markdown",
   "metadata": {},
   "source": [
    "### Training the Model"
   ]
  },
  {
   "cell_type": "markdown",
   "metadata": {},
   "source": [
    "The following code segment trains the model using the `run_network` helper function. I seem to be hitting a memory issue (my interpretation), when I have batches above a certain threshold. Batches=10 work fine, but batches of 100 are too big. May need to allocate more RAM to the docker container."
   ]
  },
  {
   "cell_type": "code",
   "execution_count": 22,
   "metadata": {
    "collapsed": false
   },
   "outputs": [],
   "source": [
    "# Reshape to the appropriate shape for the CNN input\n",
    "testX = X_test.reshape(X_test.shape[0], 1, X_train.shape[1],X_train.shape[2])\n",
    "trainX = X_train.reshape(X_train.shape[0], 1, X_train.shape[1],X_train.shape[2])"
   ]
  },
  {
   "cell_type": "code",
   "execution_count": 23,
   "metadata": {
    "collapsed": false
   },
   "outputs": [],
   "source": [
    "loadWeights = False\n",
    "if loadWeights:\n",
    "    model.load_weights(\"dwdii-emo-01vjh-1-Cloud.hdf5\")"
   ]
  },
  {
   "cell_type": "code",
   "execution_count": 24,
   "metadata": {
    "collapsed": false
   },
   "outputs": [
    {
     "name": "stdout",
     "output_type": "stream",
     "text": [
      "Training start: 2016-12-03 02:45:34.421552\n",
      "(13082, 8)\n",
      "(3271, 8)\n",
      "Training model...\n",
      "Train on 13082 samples, validate on 3271 samples\n",
      "Epoch 1/100\n",
      "13082/13082 [==============================] - 920s - loss: 0.3515 - acc: 0.3311 - val_loss: 0.2847 - val_acc: 0.4295\n",
      "Epoch 2/100\n",
      "13082/13082 [==============================] - 874s - loss: 0.2668 - acc: 0.4940 - val_loss: 0.2502 - val_acc: 0.5506\n",
      "Epoch 3/100\n",
      "13082/13082 [==============================] - 867s - loss: 0.2240 - acc: 0.5987 - val_loss: 0.2259 - val_acc: 0.5827\n",
      "Epoch 4/100\n",
      "13082/13082 [==============================] - 866s - loss: 0.1970 - acc: 0.6572 - val_loss: 0.1973 - val_acc: 0.6912\n",
      "Epoch 5/100\n",
      "13082/13082 [==============================] - 866s - loss: 0.1690 - acc: 0.7120 - val_loss: 0.1691 - val_acc: 0.7294\n",
      "Epoch 6/100\n",
      "13082/13082 [==============================] - 865s - loss: 0.1438 - acc: 0.7604 - val_loss: 0.1430 - val_acc: 0.7677\n",
      "Epoch 7/100\n",
      "13082/13082 [==============================] - 865s - loss: 0.1154 - acc: 0.8139 - val_loss: 0.1566 - val_acc: 0.7270\n",
      "Epoch 8/100\n",
      "13082/13082 [==============================] - 864s - loss: 0.0998 - acc: 0.8440 - val_loss: 0.0935 - val_acc: 0.8627\n",
      "Epoch 9/100\n",
      "13082/13082 [==============================] - 864s - loss: 0.0753 - acc: 0.8824 - val_loss: 0.0961 - val_acc: 0.8637\n",
      "Epoch 10/100\n",
      "13082/13082 [==============================] - 865s - loss: 0.0632 - acc: 0.9028 - val_loss: 0.0795 - val_acc: 0.8884\n",
      "Epoch 11/100\n",
      "13082/13082 [==============================] - 867s - loss: 0.0496 - acc: 0.9244 - val_loss: 0.1470 - val_acc: 0.7765\n",
      "Epoch 12/100\n",
      "13082/13082 [==============================] - 865s - loss: 0.0405 - acc: 0.9398 - val_loss: 0.1000 - val_acc: 0.8805\n",
      "Epoch 13/100\n",
      "13082/13082 [==============================] - 864s - loss: 0.0380 - acc: 0.9463 - val_loss: 0.0745 - val_acc: 0.9126\n",
      "Epoch 14/100\n",
      "13082/13082 [==============================] - 863s - loss: 0.0260 - acc: 0.9625 - val_loss: 0.1280 - val_acc: 0.8346\n",
      "Epoch 15/100\n",
      "13082/13082 [==============================] - 863s - loss: 0.0222 - acc: 0.9664 - val_loss: 0.1180 - val_acc: 0.8725\n",
      "Epoch 16/100\n",
      "13082/13082 [==============================] - 863s - loss: 0.0163 - acc: 0.9778 - val_loss: 0.0964 - val_acc: 0.8887\n",
      "Epoch 17/100\n",
      "13082/13082 [==============================] - 870s - loss: 0.0175 - acc: 0.9774 - val_loss: 0.0834 - val_acc: 0.9138\n",
      "Epoch 18/100\n",
      "13082/13082 [==============================] - 864s - loss: 0.0159 - acc: 0.9809 - val_loss: 0.0794 - val_acc: 0.9217\n",
      "Epoch 19/100\n",
      "13082/13082 [==============================] - 1595s - loss: 0.0142 - acc: 0.9830 - val_loss: 0.1220 - val_acc: 0.8872\n",
      "Epoch 20/100\n",
      "13082/13082 [==============================] - 4880s - loss: 0.0178 - acc: 0.9800 - val_loss: 0.0979 - val_acc: 0.9156\n",
      "Epoch 21/100\n",
      "13082/13082 [==============================] - 4889s - loss: 0.0176 - acc: 0.9787 - val_loss: 0.0890 - val_acc: 0.9181\n",
      "Epoch 22/100\n",
      "13082/13082 [==============================] - 4882s - loss: 0.0123 - acc: 0.9869 - val_loss: 0.0883 - val_acc: 0.9080\n",
      "Epoch 23/100\n",
      "13082/13082 [==============================] - 4854s - loss: 0.0109 - acc: 0.9866 - val_loss: 0.0863 - val_acc: 0.9223\n",
      "Epoch 24/100\n",
      "13082/13082 [==============================] - 4853s - loss: 0.0070 - acc: 0.9903 - val_loss: 0.0993 - val_acc: 0.9205\n",
      "Epoch 25/100\n",
      "13082/13082 [==============================] - 4863s - loss: 0.0156 - acc: 0.9843 - val_loss: 0.1029 - val_acc: 0.8997\n",
      "Epoch 26/100\n",
      "13082/13082 [==============================] - 4869s - loss: 0.0100 - acc: 0.9872 - val_loss: 0.0868 - val_acc: 0.9217\n",
      "Epoch 27/100\n",
      "13082/13082 [==============================] - 4894s - loss: 0.0055 - acc: 0.9937 - val_loss: 0.1024 - val_acc: 0.9242\n",
      "Epoch 28/100\n",
      " KeyboardInterrupt\n"
     ]
    }
   ],
   "source": [
    "print \"Training start: \" + str(datetime.datetime.now())\n",
    "m, h = emotion_model.run_network([trainX, testX, Y_train, Y_test], model, batch=200, epochs=100, verbosity=1)"
   ]
  },
  {
   "cell_type": "markdown",
   "metadata": {},
   "source": [
    "* Model v2: Network's test score [loss, accuracy]: [9.1067240715026863, 0.435] - 4474s \n",
    "  * #2: Network's test score [loss, accuracy]: [9.1067240715026863, 0.435] - 5469s \n",
    "* Model v3: Network's test score [loss, accuracy]: [8.0187525367736825, 0.50249999999999995] - 2499s\n",
    "* Model v4.1: Network's test score [loss, accuracy]: [9.1067240715026863, 0.435] - 2137s \n",
    "* Movel v4.2: Network's test score [loss, accuracy]: [8.0187525367736825, 0.50249999999999995] - 3108s \n",
    "* Model v5: Network's test score [loss, accuracy]: [6.9666682052612305, 0.19500000000000001] - 1682s \n",
    "* Model v6: Network's test score [loss, accuracy]: [1.7120025205612182, 0.23749999999999999] - 3020s \n",
    "* Model v7: Network's test score [loss, accuracy]: [7.9999716758728026, 0.14000000000000001] - 4610s \n",
    "* Model v8: Network's test score [loss, accuracy]: [1.6948303937911988, 0.19500000000000001] - 3313s \n",
    "* Model v6 w/ flatten: Network's test score [loss, accuracy]: [7.1107604598999021, 0.17249999999999999] - 3044s \n",
    "* Model v6 (Docker Cloud): Network's test score [loss, accuracy]: [11.153776299942534, 0.307974335472044] - 3597s \n",
    "* Model v3.1: Network's test score [loss, accuracy]: [1.5994336946608279, 0.22314049603196873] - 687s \n",
    "* Model v3.2: Network's test score [loss, accuracy]: [1.5697537031802502, 0.35989011021760792] - 772s\n",
    "* cnn_model_jhamski: Network's test score [loss, accuracy]: [0.31684105933367551, 0.34615384648134423] - 636s\n",
    " * Many epochs 150x150: Network's test score [loss, accuracy]: [0.51708218340690315, 0.6428571428571429]\n",
    "* emotion_model_jh_v2: Network's test score [loss, accuracy]: [0.27507745529690836, 0.55616438421484538] - 2027s\n",
    "  * Epoch x20: Network's test score [loss, accuracy]: [0.32478914950808435, 0.63287671265536793]\n",
    "* v3 epoch x40: Network's test score [loss, accuracy]: [0.078623215722688183, 0.88359303391384048]\n",
    "  * +20: Network's test score [loss, accuracy]: [0.070701496646681364, 0.91750687442713108]\n",
    "* v4 Epoch 20: Network's test score [loss, accuracy]: [0.23540275704827893, 0.61279229702942961]\n",
    "  * +80: Network's test score [loss, accuracy]: [0.1823677838099789, 0.8466299859988804]\n",
    "* v5 Epoch 20: Network's test score [loss, accuracy]: [0.13165531713295181, 0.78610729039781191]\n",
    "  * +80: Network's test score [loss, accuracy]: [0.097839370133615211, 0.9312242091603915]\n",
    "* v5 Epoch 27 - 13082 examples: val_loss: 0.1024 - val_acc: 0.9242"
   ]
  },
  {
   "cell_type": "code",
   "execution_count": 25,
   "metadata": {
    "collapsed": false
   },
   "outputs": [],
   "source": [
    "model.save_weights(\"dwdii-emo-150-jhv5a-Cloud.hdf5\", overwrite=True)"
   ]
  },
  {
   "cell_type": "code",
   "execution_count": null,
   "metadata": {
    "collapsed": false
   },
   "outputs": [],
   "source": []
  },
  {
   "cell_type": "markdown",
   "metadata": {
    "collapsed": true
   },
   "source": [
    "### References\n",
    "\n",
    "* OpenCV/CV2: http://askubuntu.com/questions/447409/how-to-install-opencv-2-9-for-python\n",
    "* Docker Commit: http://stackoverflow.com/questions/19585028/i-lose-my-data-when-the-container-exits\n",
    "  * docker ps -l\n",
    "  * docker commit <ContainerID> dittenhafer/dl"
   ]
  },
  {
   "cell_type": "code",
   "execution_count": null,
   "metadata": {
    "collapsed": true
   },
   "outputs": [],
   "source": []
  }
 ],
 "metadata": {
  "kernelspec": {
   "display_name": "Python 2",
   "language": "python",
   "name": "python2"
  },
  "language_info": {
   "codemirror_mode": {
    "name": "ipython",
    "version": 2
   },
   "file_extension": ".py",
   "mimetype": "text/x-python",
   "name": "python",
   "nbconvert_exporter": "python",
   "pygments_lexer": "ipython2",
   "version": "2.7.6"
  }
 },
 "nbformat": 4,
 "nbformat_minor": 0
}
