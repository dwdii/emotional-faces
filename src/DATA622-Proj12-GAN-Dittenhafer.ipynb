{
 "cells": [
  {
   "cell_type": "code",
   "execution_count": 1,
   "metadata": {
    "collapsed": false
   },
   "outputs": [
    {
     "name": "stderr",
     "output_type": "stream",
     "text": [
      "Using Theano backend.\n"
     ]
    }
   ],
   "source": [
    "import matplotlib\n",
    "matplotlib.use('Agg')\n",
    "from matplotlib import pyplot as plt\n",
    "\n",
    "import generative_adversarial as gan\n",
    "import dwdii_transforms\n",
    "import numpy as np\n",
    "import random"
   ]
  },
  {
   "cell_type": "code",
   "execution_count": 2,
   "metadata": {
    "collapsed": false
   },
   "outputs": [
    {
     "name": "stdout",
     "output_type": "stream",
     "text": [
      "cpu\n",
      "float32\n"
     ]
    }
   ],
   "source": [
    "import theano\n",
    "#theano.config.device = 'gpu'\n",
    "#theano.config.floatX = 'float32'\n",
    "\n",
    "print theano.config.device\n",
    "print theano.config.floatX"
   ]
  },
  {
   "cell_type": "code",
   "execution_count": 2,
   "metadata": {
    "collapsed": true
   },
   "outputs": [],
   "source": [
    "imagePath = \"/root/facial_expressions/images\"\n",
    "dataPath = \"/root/facial_expressions/data/legend.csv\""
   ]
  },
  {
   "cell_type": "markdown",
   "metadata": {},
   "source": [
    "### Load Data\n",
    "In this section we load the image data and scale to 34x34."
   ]
  },
  {
   "cell_type": "code",
   "execution_count": 3,
   "metadata": {
    "collapsed": false
   },
   "outputs": [
    {
     "name": "stdout",
     "output_type": "stream",
     "text": [
      "0.000000: Yannos_Papantoniou_0001.jpg\n",
      "0.088456: Michael_Patrick_King_0002.jpg\n",
      "0.176913: James_Watt_0001.jpg\n",
      "(1734, 34, 34)\n",
      "(1734, 1)\n"
     ]
    }
   ],
   "source": [
    "maxData = 2200\n",
    "X_data, Y_data = dwdii_transforms.load_data(dataPath, imagePath, maxData = None, verboseFreq = 200, imgResize=(34,34), theseEmotions=[\"happiness\"])\n",
    "print X_data.shape\n",
    "print Y_data.shape"
   ]
  },
  {
   "cell_type": "code",
   "execution_count": 4,
   "metadata": {
    "collapsed": false
   },
   "outputs": [
    {
     "name": "stdout",
     "output_type": "stream",
     "text": [
      "1387\n",
      "X_train: (1387, 1, 34, 34)\n",
      "X_test: (347, 1, 34, 34)\n",
      "Y_train: (1387, 1)\n",
      "Y_test: (347, 1)\n",
      "Shape: (1, 34, 34)\n"
     ]
    }
   ],
   "source": [
    "X_train, X_test, Y_train, Y_test = dwdii_transforms.trainingTestSplit(X_data, Y_data, 0.8, True)\n",
    "shp = X_train.shape[1:]\n",
    "print \"Shape: \" + str(shp)"
   ]
  },
  {
   "cell_type": "markdown",
   "metadata": {},
   "source": [
    "### Create Generative and Discriminative Models"
   ]
  },
  {
   "cell_type": "code",
   "execution_count": 5,
   "metadata": {
    "collapsed": false
   },
   "outputs": [],
   "source": [
    "genModel = gan.buildGenerativeModel(verbose=False)"
   ]
  },
  {
   "cell_type": "code",
   "execution_count": 6,
   "metadata": {
    "collapsed": false
   },
   "outputs": [],
   "source": [
    "discrimModel = gan.buildDiscriminativeModel(shape=shp, verbose=False)"
   ]
  },
  {
   "cell_type": "markdown",
   "metadata": {},
   "source": [
    "### Discriminator Training"
   ]
  },
  {
   "cell_type": "code",
   "execution_count": 7,
   "metadata": {
    "collapsed": false
   },
   "outputs": [],
   "source": [
    "ntrain = 600\n",
    "trainidx = random.sample(range(0,X_train.shape[0]), ntrain)\n",
    "XT = X_train[trainidx,:,:,:]"
   ]
  },
  {
   "cell_type": "code",
   "execution_count": null,
   "metadata": {
    "collapsed": false
   },
   "outputs": [],
   "source": [
    "# Pre-train the discriminator network ...\n",
    "noise_gen = np.random.uniform(0,1,size=[XT.shape[0],100])\n",
    "generated_images = genModel.predict(noise_gen)\n",
    "X = np.concatenate((XT, generated_images))\n",
    "n = XT.shape[0]\n",
    "y = np.zeros([2*n,2])\n",
    "y[:n,1] = 1\n",
    "y[n:,0] = 1"
   ]
  },
  {
   "cell_type": "code",
   "execution_count": null,
   "metadata": {
    "collapsed": false
   },
   "outputs": [],
   "source": [
    "gan.makeTrainable(discrimModel,True)\n",
    "discrimModel.fit(X,y, nb_epoch=1, batch_size=128)"
   ]
  },
  {
   "cell_type": "code",
   "execution_count": null,
   "metadata": {
    "collapsed": false
   },
   "outputs": [],
   "source": [
    "y_hat = discrimModel.predict(X)"
   ]
  },
  {
   "cell_type": "code",
   "execution_count": null,
   "metadata": {
    "collapsed": false
   },
   "outputs": [],
   "source": [
    "# Measure accuracy of pre-trained discriminator network\n",
    "y_hat_idx = np.argmax(y_hat,axis=1)\n",
    "y_idx = np.argmax(y,axis=1)\n",
    "diff = y_idx-y_hat_idx\n",
    "n_tot = y.shape[0]\n",
    "n_rig = (diff==0).sum()\n",
    "acc = n_rig*100.0/n_tot\n",
    "print \"Accuracy: %0.02f pct (%d of %d) right\"%(acc, n_rig, n_tot)"
   ]
  },
  {
   "cell_type": "markdown",
   "metadata": {},
   "source": [
    "### Stacked GAN and Training"
   ]
  },
  {
   "cell_type": "code",
   "execution_count": 8,
   "metadata": {
    "collapsed": true
   },
   "outputs": [],
   "source": [
    "loadWeights = True\n",
    "if loadWeights:\n",
    "    genModel.load_weights(\"dwdii-genModel-03-01.hdf5\")\n",
    "    discrimModel.load_weights(\"dwdii-discrimModel-03-01.hdf5\")\n",
    "\n",
    "# Build the stacked GAN model\n",
    "GAN = gan.buildStackedGanModel(genModel, discrimModel)\n",
    "if loadWeights:\n",
    "    GAN.load_weights(\"dwdii-GAN-03-01.hdf5\")"
   ]
  },
  {
   "cell_type": "code",
   "execution_count": 9,
   "metadata": {
    "collapsed": false
   },
   "outputs": [],
   "source": [
    "gan.makeTrainable(discrimModel,False)"
   ]
  },
  {
   "cell_type": "code",
   "execution_count": 10,
   "metadata": {
    "collapsed": false
   },
   "outputs": [],
   "source": [
    "gan.plotGenerative(0, genModel)"
   ]
  },
  {
   "cell_type": "code",
   "execution_count": 11,
   "metadata": {
    "collapsed": false
   },
   "outputs": [
    {
     "name": "stdout",
     "output_type": "stream",
     "text": [
      "(149, 'Error saving in plotGenerative, retrying: ', <type 'exceptions.IOError'>)\n",
      "(149, 'Error saving in plotGenerative, retrying: ', <type 'exceptions.IOError'>)\n",
      "(149, 'Error saving in plotGenerative, retrying: ', <type 'exceptions.IOError'>)\n",
      "(149, 'Error saving in plotGenerative, retrying: ', <type 'exceptions.IOError'>)\n",
      "(149, 'Error saving in plotGenerative, retrying: ', <type 'exceptions.IOError'>)\n",
      "(149, 'Error saving in plotGenerative, retrying: ', <type 'exceptions.IOError'>)\n",
      "(249, 'Error saving in plotGenerative, retrying: ', <type 'exceptions.IOError'>)\n",
      "(249, 'Error saving in plotGenerative, retrying: ', <type 'exceptions.IOError'>)\n",
      "(249, 'Error saving in plotGenerative, retrying: ', <type 'exceptions.IOError'>)\n",
      "(249, 'Error saving in plotGenerative, retrying: ', <type 'exceptions.IOError'>)\n",
      "(249, 'Error saving in plotGenerative, retrying: ', <type 'exceptions.IOError'>)\n",
      "(249, 'Error saving in plotGenerative, retrying: ', <type 'exceptions.IOError'>)\n",
      "(349, 'Error saving in plotGenerative, retrying: ', <type 'exceptions.IOError'>)\n",
      "(349, 'Error saving in plotGenerative, retrying: ', <type 'exceptions.IOError'>)\n",
      "(349, 'Error saving in plotGenerative, retrying: ', <type 'exceptions.IOError'>)\n",
      "(349, 'Error saving in plotGenerative, retrying: ', <type 'exceptions.IOError'>)\n",
      "(349, 'Error saving in plotGenerative, retrying: ', <type 'exceptions.IOError'>)\n",
      "(349, 'Error saving in plotGenerative, retrying: ', <type 'exceptions.IOError'>)\n",
      "(449, 'Error saving in plotGenerative, retrying: ', <type 'exceptions.IOError'>)\n",
      "(449, 'Error saving in plotGenerative, retrying: ', <type 'exceptions.IOError'>)\n",
      "(449, 'Error saving in plotGenerative, retrying: ', <type 'exceptions.IOError'>)\n",
      "(449, 'Error saving in plotGenerative, retrying: ', <type 'exceptions.IOError'>)\n",
      "(449, 'Error saving in plotGenerative, retrying: ', <type 'exceptions.IOError'>)\n",
      "(449, 'Error saving in plotGenerative, retrying: ', <type 'exceptions.IOError'>)\n",
      "(549, 'Error saving in plotGenerative, retrying: ', <type 'exceptions.IOError'>)\n",
      "(549, 'Error saving in plotGenerative, retrying: ', <type 'exceptions.IOError'>)\n",
      "(549, 'Error saving in plotGenerative, retrying: ', <type 'exceptions.IOError'>)\n",
      "(549, 'Error saving in plotGenerative, retrying: ', <type 'exceptions.IOError'>)\n",
      "(549, 'Error saving in plotGenerative, retrying: ', <type 'exceptions.IOError'>)\n",
      "(549, 'Error saving in plotGenerative, retrying: ', <type 'exceptions.IOError'>)\n",
      "(649, 'Error saving in plotGenerative, retrying: ', <type 'exceptions.IOError'>)\n",
      "(649, 'Error saving in plotGenerative, retrying: ', <type 'exceptions.IOError'>)\n",
      "(649, 'Error saving in plotGenerative, retrying: ', <type 'exceptions.IOError'>)\n",
      "(649, 'Error saving in plotGenerative, retrying: ', <type 'exceptions.IOError'>)\n",
      "(649, 'Error saving in plotGenerative, retrying: ', <type 'exceptions.IOError'>)\n",
      "(649, 'Error saving in plotGenerative, retrying: ', <type 'exceptions.IOError'>)\n",
      "(749, 'Error saving in plotGenerative, retrying: ', <type 'exceptions.IOError'>)\n",
      "(749, 'Error saving in plotGenerative, retrying: ', <type 'exceptions.IOError'>)\n",
      "(749, 'Error saving in plotGenerative, retrying: ', <type 'exceptions.IOError'>)\n",
      "(749, 'Error saving in plotGenerative, retrying: ', <type 'exceptions.IOError'>)\n",
      "(749, 'Error saving in plotGenerative, retrying: ', <type 'exceptions.IOError'>)\n",
      "(749, 'Error saving in plotGenerative, retrying: ', <type 'exceptions.IOError'>)\n",
      "(849, 'Error saving in plotGenerative, retrying: ', <type 'exceptions.IOError'>)\n",
      "(849, 'Error saving in plotGenerative, retrying: ', <type 'exceptions.IOError'>)\n",
      "(849, 'Error saving in plotGenerative, retrying: ', <type 'exceptions.IOError'>)\n",
      "(849, 'Error saving in plotGenerative, retrying: ', <type 'exceptions.IOError'>)\n",
      "(849, 'Error saving in plotGenerative, retrying: ', <type 'exceptions.IOError'>)\n",
      "(849, 'Error saving in plotGenerative, retrying: ', <type 'exceptions.IOError'>)\n",
      "(949, 'Error saving in plotGenerative, retrying: ', <type 'exceptions.IOError'>)\n",
      "(949, 'Error saving in plotGenerative, retrying: ', <type 'exceptions.IOError'>)\n",
      "(949, 'Error saving in plotGenerative, retrying: ', <type 'exceptions.IOError'>)\n",
      "(949, 'Error saving in plotGenerative, retrying: ', <type 'exceptions.IOError'>)\n",
      "(949, 'Error saving in plotGenerative, retrying: ', <type 'exceptions.IOError'>)\n",
      "(949, 'Error saving in plotGenerative, retrying: ', <type 'exceptions.IOError'>)\n"
     ]
    },
    {
     "name": "stderr",
     "output_type": "stream",
     "text": [
      "/usr/lib/pymodules/python2.7/matplotlib/pyplot.py:412: RuntimeWarning: More than 20 figures have been opened. Figures created through the pyplot interface (`matplotlib.pyplot.figure`) are retained until explicitly closed and may consume too much memory. (To control this warning, see the rcParam `figure.max_num_figures`).\n",
      "  max_open_warning, RuntimeWarning)\n"
     ]
    },
    {
     "name": "stdout",
     "output_type": "stream",
     "text": [
      "(1099, 'Error saving in plotGenerative, retrying: ', <type 'exceptions.IOError'>)\n",
      "(1099, 'Error saving in plotGenerative, retrying: ', <type 'exceptions.IOError'>)\n",
      "(1099, 'Error saving in plotGenerative, retrying: ', <type 'exceptions.IOError'>)\n",
      "(1099, 'Error saving in plotGenerative, retrying: ', <type 'exceptions.IOError'>)\n",
      "(1099, 'Error saving in plotGenerative, retrying: ', <type 'exceptions.IOError'>)\n",
      "(1099, 'Error saving in plotGenerative, retrying: ', <type 'exceptions.IOError'>)\n",
      "(1199, 'Error saving in plotGenerative, retrying: ', <type 'exceptions.IOError'>)\n",
      "(1199, 'Error saving in plotGenerative, retrying: ', <type 'exceptions.IOError'>)\n",
      "(1199, 'Error saving in plotGenerative, retrying: ', <type 'exceptions.IOError'>)\n",
      "(1199, 'Error saving in plotGenerative, retrying: ', <type 'exceptions.IOError'>)\n",
      "(1199, 'Error saving in plotGenerative, retrying: ', <type 'exceptions.IOError'>)\n",
      "(1199, 'Error saving in plotGenerative, retrying: ', <type 'exceptions.IOError'>)\n",
      "(1299, 'Error saving in plotGenerative, retrying: ', <type 'exceptions.IOError'>)\n",
      "(1299, 'Error saving in plotGenerative, retrying: ', <type 'exceptions.IOError'>)\n",
      "(1299, 'Error saving in plotGenerative, retrying: ', <type 'exceptions.IOError'>)\n",
      "(1299, 'Error saving in plotGenerative, retrying: ', <type 'exceptions.IOError'>)\n",
      "(1299, 'Error saving in plotGenerative, retrying: ', <type 'exceptions.IOError'>)\n",
      "(1299, 'Error saving in plotGenerative, retrying: ', <type 'exceptions.IOError'>)\n",
      "(1399, 'Error saving in plotGenerative, retrying: ', <type 'exceptions.IOError'>)\n",
      "(1399, 'Error saving in plotGenerative, retrying: ', <type 'exceptions.IOError'>)\n",
      "(1399, 'Error saving in plotGenerative, retrying: ', <type 'exceptions.IOError'>)\n",
      "(1399, 'Error saving in plotGenerative, retrying: ', <type 'exceptions.IOError'>)\n",
      "(1399, 'Error saving in plotGenerative, retrying: ', <type 'exceptions.IOError'>)\n",
      "(1399, 'Error saving in plotGenerative, retrying: ', <type 'exceptions.IOError'>)\n",
      "(1499, 'Error saving in plotGenerative, retrying: ', <type 'exceptions.IOError'>)\n",
      "(1499, 'Error saving in plotGenerative, retrying: ', <type 'exceptions.IOError'>)\n",
      "(1499, 'Error saving in plotGenerative, retrying: ', <type 'exceptions.IOError'>)\n",
      "(1499, 'Error saving in plotGenerative, retrying: ', <type 'exceptions.IOError'>)\n",
      "(1499, 'Error saving in plotGenerative, retrying: ', <type 'exceptions.IOError'>)\n",
      "(1499, 'Error saving in plotGenerative, retrying: ', <type 'exceptions.IOError'>)\n",
      "(1599, 'Error saving in plotGenerative, retrying: ', <type 'exceptions.IOError'>)\n",
      "(1599, 'Error saving in plotGenerative, retrying: ', <type 'exceptions.IOError'>)\n",
      "(1599, 'Error saving in plotGenerative, retrying: ', <type 'exceptions.IOError'>)\n",
      "(1599, 'Error saving in plotGenerative, retrying: ', <type 'exceptions.IOError'>)\n",
      "(1599, 'Error saving in plotGenerative, retrying: ', <type 'exceptions.IOError'>)\n",
      "(1599, 'Error saving in plotGenerative, retrying: ', <type 'exceptions.IOError'>)\n",
      "(1699, 'Error saving in plotGenerative, retrying: ', <type 'exceptions.IOError'>)\n",
      "(1699, 'Error saving in plotGenerative, retrying: ', <type 'exceptions.IOError'>)\n",
      "(1699, 'Error saving in plotGenerative, retrying: ', <type 'exceptions.IOError'>)\n",
      "(1699, 'Error saving in plotGenerative, retrying: ', <type 'exceptions.IOError'>)\n",
      "(1699, 'Error saving in plotGenerative, retrying: ', <type 'exceptions.IOError'>)\n",
      "(1699, 'Error saving in plotGenerative, retrying: ', <type 'exceptions.IOError'>)\n",
      "(1799, 'Error saving in plotGenerative, retrying: ', <type 'exceptions.IOError'>)\n",
      "(1799, 'Error saving in plotGenerative, retrying: ', <type 'exceptions.IOError'>)\n",
      "(1799, 'Error saving in plotGenerative, retrying: ', <type 'exceptions.IOError'>)\n",
      "(1799, 'Error saving in plotGenerative, retrying: ', <type 'exceptions.IOError'>)\n",
      "(1799, 'Error saving in plotGenerative, retrying: ', <type 'exceptions.IOError'>)\n",
      "(1799, 'Error saving in plotGenerative, retrying: ', <type 'exceptions.IOError'>)\n",
      "(1899, 'Error saving in plotGenerative, retrying: ', <type 'exceptions.IOError'>)\n",
      "(1899, 'Error saving in plotGenerative, retrying: ', <type 'exceptions.IOError'>)\n",
      "(1899, 'Error saving in plotGenerative, retrying: ', <type 'exceptions.IOError'>)\n",
      "(1899, 'Error saving in plotGenerative, retrying: ', <type 'exceptions.IOError'>)\n",
      "(1899, 'Error saving in plotGenerative, retrying: ', <type 'exceptions.IOError'>)\n",
      "(1899, 'Error saving in plotGenerative, retrying: ', <type 'exceptions.IOError'>)\n",
      "(1999, 'Error saving in plotGenerative, retrying: ', <type 'exceptions.IOError'>)\n",
      "(1999, 'Error saving in plotGenerative, retrying: ', <type 'exceptions.IOError'>)\n",
      "(1999, 'Error saving in plotGenerative, retrying: ', <type 'exceptions.IOError'>)\n",
      "(1999, 'Error saving in plotGenerative, retrying: ', <type 'exceptions.IOError'>)\n",
      "(1999, 'Error saving in plotGenerative, retrying: ', <type 'exceptions.IOError'>)\n",
      "(1999, 'Error saving in plotGenerative, retrying: ', <type 'exceptions.IOError'>)\n",
      "(2099, 'Error saving in plotGenerative, retrying: ', <type 'exceptions.IOError'>)\n",
      "(2099, 'Error saving in plotGenerative, retrying: ', <type 'exceptions.IOError'>)\n",
      "(2099, 'Error saving in plotGenerative, retrying: ', <type 'exceptions.IOError'>)\n",
      "(2099, 'Error saving in plotGenerative, retrying: ', <type 'exceptions.IOError'>)\n",
      "(2099, 'Error saving in plotGenerative, retrying: ', <type 'exceptions.IOError'>)\n",
      "(2099, 'Error saving in plotGenerative, retrying: ', <type 'exceptions.IOError'>)\n",
      "(2299, 'Error saving in plotGenerative, retrying: ', <type 'exceptions.IOError'>)\n",
      "(2299, 'Error saving in plotGenerative, retrying: ', <type 'exceptions.IOError'>)\n",
      "(2299, 'Error saving in plotGenerative, retrying: ', <type 'exceptions.IOError'>)\n",
      "(2299, 'Error saving in plotGenerative, retrying: ', <type 'exceptions.IOError'>)\n",
      "(2299, 'Error saving in plotGenerative, retrying: ', <type 'exceptions.IOError'>)\n",
      "(2299, 'Error saving in plotGenerative, retrying: ', <type 'exceptions.IOError'>)\n",
      "(2499, 'Error saving in plotGenerative, retrying: ', <type 'exceptions.IOError'>)\n",
      "(2499, 'Error saving in plotGenerative, retrying: ', <type 'exceptions.IOError'>)\n",
      "(2499, 'Error saving in plotGenerative, retrying: ', <type 'exceptions.IOError'>)\n",
      "(2499, 'Error saving in plotGenerative, retrying: ', <type 'exceptions.IOError'>)\n",
      "(2499, 'Error saving in plotGenerative, retrying: ', <type 'exceptions.IOError'>)\n",
      "(2499, 'Error saving in plotGenerative, retrying: ', <type 'exceptions.IOError'>)\n"
     ]
    },
    {
     "ename": "KeyboardInterrupt",
     "evalue": "",
     "output_type": "error",
     "traceback": [
      "\u001b[1;31m---------------------------------------------------------------------------\u001b[0m",
      "\u001b[1;31mKeyboardInterrupt\u001b[0m                         Traceback (most recent call last)",
      "\u001b[1;32m<ipython-input-11-158cadc30f17>\u001b[0m in \u001b[0;36m<module>\u001b[1;34m()\u001b[0m\n\u001b[0;32m      1\u001b[0m \u001b[1;31m# Train for N epochs at original learning rates\u001b[0m\u001b[1;33m\u001b[0m\u001b[1;33m\u001b[0m\u001b[0m\n\u001b[1;32m----> 2\u001b[1;33m \u001b[0mgan\u001b[0m\u001b[1;33m.\u001b[0m\u001b[0mtrain_for_n\u001b[0m\u001b[1;33m(\u001b[0m\u001b[0mX_train\u001b[0m\u001b[1;33m,\u001b[0m \u001b[0mGAN\u001b[0m\u001b[1;33m,\u001b[0m \u001b[0mgenModel\u001b[0m\u001b[1;33m,\u001b[0m \u001b[0mdiscrimModel\u001b[0m\u001b[1;33m,\u001b[0m \u001b[0mnb_epoch\u001b[0m\u001b[1;33m=\u001b[0m\u001b[1;36m6000\u001b[0m\u001b[1;33m,\u001b[0m \u001b[0mplt_frq\u001b[0m\u001b[1;33m=\u001b[0m\u001b[1;36m50\u001b[0m\u001b[1;33m,\u001b[0m\u001b[0mBATCH_SIZE\u001b[0m\u001b[1;33m=\u001b[0m\u001b[1;36m32\u001b[0m\u001b[1;33m)\u001b[0m\u001b[1;33m\u001b[0m\u001b[0m\n\u001b[0m",
      "\u001b[1;32m/root/emotional-faces/src/generative_adversarial.py\u001b[0m in \u001b[0;36mtrain_for_n\u001b[1;34m(X_train, GAN, generator, discriminator, nb_epoch, plt_frq, BATCH_SIZE)\u001b[0m\n\u001b[0;32m    152\u001b[0m \u001b[1;33m\u001b[0m\u001b[0m\n\u001b[0;32m    153\u001b[0m         \u001b[0mmakeTrainable\u001b[0m\u001b[1;33m(\u001b[0m\u001b[0mdiscriminator\u001b[0m\u001b[1;33m,\u001b[0m\u001b[0mFalse\u001b[0m\u001b[1;33m)\u001b[0m\u001b[1;33m\u001b[0m\u001b[0m\n\u001b[1;32m--> 154\u001b[1;33m         \u001b[0mg_loss\u001b[0m \u001b[1;33m=\u001b[0m \u001b[0mGAN\u001b[0m\u001b[1;33m.\u001b[0m\u001b[0mtrain_on_batch\u001b[0m\u001b[1;33m(\u001b[0m\u001b[0mnoise_tr\u001b[0m\u001b[1;33m,\u001b[0m \u001b[0my2\u001b[0m \u001b[1;33m)\u001b[0m\u001b[1;33m\u001b[0m\u001b[0m\n\u001b[0m\u001b[0;32m    155\u001b[0m         \u001b[1;31m#losses[\"g\"].append(g_loss)\u001b[0m\u001b[1;33m\u001b[0m\u001b[1;33m\u001b[0m\u001b[0m\n\u001b[0;32m    156\u001b[0m \u001b[1;33m\u001b[0m\u001b[0m\n",
      "\u001b[1;32m/usr/local/lib/python2.7/dist-packages/keras/engine/training.pyc\u001b[0m in \u001b[0;36mtrain_on_batch\u001b[1;34m(self, x, y, sample_weight, class_weight)\u001b[0m\n\u001b[0;32m   1165\u001b[0m             \u001b[0mins\u001b[0m \u001b[1;33m=\u001b[0m \u001b[0mx\u001b[0m \u001b[1;33m+\u001b[0m \u001b[0my\u001b[0m \u001b[1;33m+\u001b[0m \u001b[0msample_weights\u001b[0m\u001b[1;33m\u001b[0m\u001b[0m\n\u001b[0;32m   1166\u001b[0m         \u001b[0mself\u001b[0m\u001b[1;33m.\u001b[0m\u001b[0m_make_train_function\u001b[0m\u001b[1;33m(\u001b[0m\u001b[1;33m)\u001b[0m\u001b[1;33m\u001b[0m\u001b[0m\n\u001b[1;32m-> 1167\u001b[1;33m         \u001b[0moutputs\u001b[0m \u001b[1;33m=\u001b[0m \u001b[0mself\u001b[0m\u001b[1;33m.\u001b[0m\u001b[0mtrain_function\u001b[0m\u001b[1;33m(\u001b[0m\u001b[0mins\u001b[0m\u001b[1;33m)\u001b[0m\u001b[1;33m\u001b[0m\u001b[0m\n\u001b[0m\u001b[0;32m   1168\u001b[0m         \u001b[1;32mif\u001b[0m \u001b[0mlen\u001b[0m\u001b[1;33m(\u001b[0m\u001b[0moutputs\u001b[0m\u001b[1;33m)\u001b[0m \u001b[1;33m==\u001b[0m \u001b[1;36m1\u001b[0m\u001b[1;33m:\u001b[0m\u001b[1;33m\u001b[0m\u001b[0m\n\u001b[0;32m   1169\u001b[0m             \u001b[1;32mreturn\u001b[0m \u001b[0moutputs\u001b[0m\u001b[1;33m[\u001b[0m\u001b[1;36m0\u001b[0m\u001b[1;33m]\u001b[0m\u001b[1;33m\u001b[0m\u001b[0m\n",
      "\u001b[1;32m/usr/local/lib/python2.7/dist-packages/keras/backend/theano_backend.pyc\u001b[0m in \u001b[0;36m__call__\u001b[1;34m(self, inputs)\u001b[0m\n\u001b[0;32m    516\u001b[0m     \u001b[1;32mdef\u001b[0m \u001b[0m__call__\u001b[0m\u001b[1;33m(\u001b[0m\u001b[0mself\u001b[0m\u001b[1;33m,\u001b[0m \u001b[0minputs\u001b[0m\u001b[1;33m)\u001b[0m\u001b[1;33m:\u001b[0m\u001b[1;33m\u001b[0m\u001b[0m\n\u001b[0;32m    517\u001b[0m         \u001b[1;32massert\u001b[0m \u001b[0mtype\u001b[0m\u001b[1;33m(\u001b[0m\u001b[0minputs\u001b[0m\u001b[1;33m)\u001b[0m \u001b[1;32min\u001b[0m \u001b[1;33m{\u001b[0m\u001b[0mlist\u001b[0m\u001b[1;33m,\u001b[0m \u001b[0mtuple\u001b[0m\u001b[1;33m}\u001b[0m\u001b[1;33m\u001b[0m\u001b[0m\n\u001b[1;32m--> 518\u001b[1;33m         \u001b[1;32mreturn\u001b[0m \u001b[0mself\u001b[0m\u001b[1;33m.\u001b[0m\u001b[0mfunction\u001b[0m\u001b[1;33m(\u001b[0m\u001b[1;33m*\u001b[0m\u001b[0minputs\u001b[0m\u001b[1;33m)\u001b[0m\u001b[1;33m\u001b[0m\u001b[0m\n\u001b[0m\u001b[0;32m    519\u001b[0m \u001b[1;33m\u001b[0m\u001b[0m\n\u001b[0;32m    520\u001b[0m \u001b[1;33m\u001b[0m\u001b[0m\n",
      "\u001b[1;32m/usr/local/lib/python2.7/dist-packages/theano/compile/function_module.pyc\u001b[0m in \u001b[0;36m__call__\u001b[1;34m(self, *args, **kwargs)\u001b[0m\n\u001b[0;32m    857\u001b[0m         \u001b[0mt0_fn\u001b[0m \u001b[1;33m=\u001b[0m \u001b[0mtime\u001b[0m\u001b[1;33m.\u001b[0m\u001b[0mtime\u001b[0m\u001b[1;33m(\u001b[0m\u001b[1;33m)\u001b[0m\u001b[1;33m\u001b[0m\u001b[0m\n\u001b[0;32m    858\u001b[0m         \u001b[1;32mtry\u001b[0m\u001b[1;33m:\u001b[0m\u001b[1;33m\u001b[0m\u001b[0m\n\u001b[1;32m--> 859\u001b[1;33m             \u001b[0moutputs\u001b[0m \u001b[1;33m=\u001b[0m \u001b[0mself\u001b[0m\u001b[1;33m.\u001b[0m\u001b[0mfn\u001b[0m\u001b[1;33m(\u001b[0m\u001b[1;33m)\u001b[0m\u001b[1;33m\u001b[0m\u001b[0m\n\u001b[0m\u001b[0;32m    860\u001b[0m         \u001b[1;32mexcept\u001b[0m \u001b[0mException\u001b[0m\u001b[1;33m:\u001b[0m\u001b[1;33m\u001b[0m\u001b[0m\n\u001b[0;32m    861\u001b[0m             \u001b[1;32mif\u001b[0m \u001b[0mhasattr\u001b[0m\u001b[1;33m(\u001b[0m\u001b[0mself\u001b[0m\u001b[1;33m.\u001b[0m\u001b[0mfn\u001b[0m\u001b[1;33m,\u001b[0m \u001b[1;34m'position_of_error'\u001b[0m\u001b[1;33m)\u001b[0m\u001b[1;33m:\u001b[0m\u001b[1;33m\u001b[0m\u001b[0m\n",
      "\u001b[1;31mKeyboardInterrupt\u001b[0m: "
     ]
    }
   ],
   "source": [
    "# Train for N epochs at original learning rates\n",
    "gan.train_for_n(X_train, GAN, genModel, discrimModel, nb_epoch=6000, plt_frq=50,BATCH_SIZE=32)"
   ]
  },
  {
   "cell_type": "code",
   "execution_count": 12,
   "metadata": {
    "collapsed": false
   },
   "outputs": [],
   "source": [
    "ver = \"03-02\"\n",
    "GAN.save_weights(\"dwdii-GAN-\" + ver + \".hdf5\", overwrite=True)\n",
    "discrimModel.save_weights(\"dwdii-discrimModel-\" + ver + \".hdf5\", overwrite=True)\n",
    "genModel.save_weights(\"dwdii-genModel-\" + ver + \".hdf5\", overwrite=True)"
   ]
  },
  {
   "cell_type": "code",
   "execution_count": null,
   "metadata": {
    "collapsed": true
   },
   "outputs": [],
   "source": []
  },
  {
   "cell_type": "code",
   "execution_count": null,
   "metadata": {
    "collapsed": true
   },
   "outputs": [],
   "source": []
  }
 ],
 "metadata": {
  "kernelspec": {
   "display_name": "Python 2",
   "language": "python",
   "name": "python2"
  },
  "language_info": {
   "codemirror_mode": {
    "name": "ipython",
    "version": 2
   },
   "file_extension": ".py",
   "mimetype": "text/x-python",
   "name": "python",
   "nbconvert_exporter": "python",
   "pygments_lexer": "ipython2",
   "version": "2.7.6"
  }
 },
 "nbformat": 4,
 "nbformat_minor": 0
}
