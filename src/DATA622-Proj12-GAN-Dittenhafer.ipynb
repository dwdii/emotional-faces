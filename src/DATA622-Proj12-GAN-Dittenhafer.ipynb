{
 "cells": [
  {
   "cell_type": "code",
   "execution_count": 1,
   "metadata": {
    "collapsed": false
   },
   "outputs": [
    {
     "name": "stderr",
     "output_type": "stream",
     "text": [
      "Using Theano backend.\n"
     ]
    }
   ],
   "source": [
    "import matplotlib\n",
    "matplotlib.use('Agg')\n",
    "from matplotlib import pyplot as plt\n",
    "\n",
    "import os\n",
    "os.environ[\"THEANO_FLAGS\"] = \"mode=FAST_RUN,device=cpu,floatX=float32,allow_gc=False,openmp=True\"\n",
    "import theano\n",
    "\n",
    "import generative_adversarial as gan\n",
    "import dwdii_transforms\n",
    "import numpy as np\n",
    "import random"
   ]
  },
  {
   "cell_type": "code",
   "execution_count": 4,
   "metadata": {
    "collapsed": false
   },
   "outputs": [
    {
     "name": "stdout",
     "output_type": "stream",
     "text": [
      "cpu\n",
      "float32\n",
      "FAST_RUN\n",
      "True\n",
      "False\n",
      "{'DOCKERCLOUD_SERVICE_FQDN': 'one-b3b5deb8.630e6c21.svc.dockerapp.io', 'DOCKERCLOUD_NODE_HOSTNAME': '3d6e964a-0924-4643-b2f4-f66cf058718d', 'PATH': '/root/torch/install/bin:/root/caffe/build/tools:/root/caffe/python:/usr/local/sbin:/usr/local/bin:/usr/sbin:/usr/bin:/sbin:/bin', 'HOME': '/root', 'LD_LIBRARY_PATH': '/root/torch/install/lib:', 'DOCKERCLOUD_NODE_API_URI': '/api/infra/v1/dwdii/node/3d6e964a-0924-4643-b2f4-f66cf058718d/', 'TERM': 'xterm-color', 'DOCKERCLOUD_NODE_API_URL': 'https://cloud.docker.com/api/infra/v1/dwdii/node/3d6e964a-0924-4643-b2f4-f66cf058718d/', 'DOCKERCLOUD_CONTAINER_HOSTNAME': 'one-b3b5deb8-1', 'DOCKERCLOUD_SERVICE_API_URL': 'https://cloud.docker.com/api/app/v1/dwdii/service/630e6c21-8364-4b48-b38a-1bd816a4a39e/', 'DOCKERCLOUD_SERVICE_API_URI': '/api/app/v1/dwdii/service/630e6c21-8364-4b48-b38a-1bd816a4a39e/', 'DOCKERCLOUD_STREAM_HOST': 'wss://ws.cloud.docker.com', 'LUA_PATH': '/root/.luarocks/share/lua/5.1/?.lua;/root/.luarocks/share/lua/5.1/?/init.lua;/root/torch/install/share/lua/5.1/?.lua;/root/torch/install/share/lua/5.1/?/init.lua;./?.lua;/root/torch/install/share/luajit-2.1.0-beta1/?.lua;/usr/local/share/lua/5.1/?.lua;/usr/local/share/lua/5.1/?/init.lua', 'DOCKERCLOUD_CONTAINER_API_URI': '/api/app/v1/dwdii/container/97688488-3168-4602-aad5-eac38928d846/', 'DOCKERCLOUD_CONTAINER_API_URL': 'https://cloud.docker.com/api/app/v1/dwdii/container/97688488-3168-4602-aad5-eac38928d846/', 'JPY_PARENT_PID': '5', 'PYTHONPATH': '/root/caffe/python:', 'LUA_CPATH': '/root/torch/install/lib/?.so;/root/.luarocks/lib/lua/5.1/?.so;/root/torch/install/lib/lua/5.1/?.so;./?.so;/usr/local/lib/lua/5.1/?.so;/usr/local/lib/lua/5.1/loadall.so', 'DOCKERCLOUD_SERVICE_HOSTNAME': 'one-b3b5deb8', 'DYLD_LIBRARY_PATH': '/root/torch/install/lib:', 'GIT_PAGER': 'cat', 'PAGER': 'cat', 'THEANO_FLAGS': 'mode=FAST_RUN,device=cpu,floatX=float32,allow_gc=False,openmp=True', 'CAFFE_ROOT': '/root/caffe', 'DOCKERCLOUD_CONTAINER_FQDN': 'one-b3b5deb8-1.97688488.cont.dockerapp.io', 'HOSTNAME': 'ip-10-78-41-76', 'DOCKERCLOUD_NODE_FQDN': '3d6e964a-0924-4643-b2f4-f66cf058718d.node.dockerapp.io', 'CLICOLOR': '1', 'PWD': '/root', 'PYCAFFE_ROOT': '/root/caffe/python', 'DOCKERCLOUD_REST_HOST': 'https://cloud.docker.com'}\n"
     ]
    }
   ],
   "source": [
    "import theano\n",
    "\n",
    "#theano.config.floatX = 'float32'\n",
    "\n",
    "print theano.config.device\n",
    "print theano.config.floatX\n",
    "print theano.config.mode\n",
    "print theano.config.openmp\n",
    "print theano.config.allow_gc\n",
    "#print os.environ\n",
    "#print(theano.config)"
   ]
  },
  {
   "cell_type": "code",
   "execution_count": null,
   "metadata": {
    "collapsed": false
   },
   "outputs": [],
   "source": [
    "theano.config.device = 'gpu'"
   ]
  },
  {
   "cell_type": "code",
   "execution_count": null,
   "metadata": {
    "collapsed": true
   },
   "outputs": [],
   "source": [
    "imagePath = \"/root/facial_expressions/images\"\n",
    "dataPath = \"/root/facial_expressions/data/legend.csv\""
   ]
  },
  {
   "cell_type": "markdown",
   "metadata": {},
   "source": [
    "### Load Data\n",
    "In this section we load the image data and scale to 34x34."
   ]
  },
  {
   "cell_type": "code",
   "execution_count": null,
   "metadata": {
    "collapsed": false
   },
   "outputs": [],
   "source": [
    "maxData = 2200\n",
    "X_data, Y_data = dwdii_transforms.load_data(dataPath, imagePath, maxData = None, verboseFreq = 200, imgResize=(34,34), theseEmotions=[\"happiness\"])\n",
    "print X_data.shape\n",
    "print Y_data.shape"
   ]
  },
  {
   "cell_type": "code",
   "execution_count": null,
   "metadata": {
    "collapsed": false
   },
   "outputs": [],
   "source": [
    "X_train, X_test, Y_train, Y_test = dwdii_transforms.trainingTestSplit(X_data, Y_data, 0.8, True)\n",
    "shp = X_train.shape[1:]\n",
    "print \"Shape: \" + str(shp)"
   ]
  },
  {
   "cell_type": "markdown",
   "metadata": {},
   "source": [
    "### Create Generative and Discriminative Models"
   ]
  },
  {
   "cell_type": "code",
   "execution_count": null,
   "metadata": {
    "collapsed": false
   },
   "outputs": [],
   "source": [
    "genModel = gan.buildGenerativeModel(verbose=False)"
   ]
  },
  {
   "cell_type": "code",
   "execution_count": null,
   "metadata": {
    "collapsed": false
   },
   "outputs": [],
   "source": [
    "discrimModel = gan.buildDiscriminativeModel(shape=shp, verbose=False)"
   ]
  },
  {
   "cell_type": "markdown",
   "metadata": {},
   "source": [
    "### Discriminator Training"
   ]
  },
  {
   "cell_type": "code",
   "execution_count": null,
   "metadata": {
    "collapsed": false
   },
   "outputs": [],
   "source": [
    "ntrain = 600\n",
    "trainidx = random.sample(range(0,X_train.shape[0]), ntrain)\n",
    "XT = X_train[trainidx,:,:,:]"
   ]
  },
  {
   "cell_type": "code",
   "execution_count": null,
   "metadata": {
    "collapsed": false
   },
   "outputs": [],
   "source": [
    "# Pre-train the discriminator network ...\n",
    "noise_gen = np.random.uniform(0,1,size=[XT.shape[0],100])\n",
    "generated_images = genModel.predict(noise_gen)\n",
    "X = np.concatenate((XT, generated_images))\n",
    "n = XT.shape[0]\n",
    "y = np.zeros([2*n,2])\n",
    "y[:n,1] = 1\n",
    "y[n:,0] = 1"
   ]
  },
  {
   "cell_type": "code",
   "execution_count": null,
   "metadata": {
    "collapsed": false
   },
   "outputs": [],
   "source": [
    "gan.makeTrainable(discrimModel,True)\n",
    "discrimModel.fit(X,y, nb_epoch=1, batch_size=128)"
   ]
  },
  {
   "cell_type": "code",
   "execution_count": null,
   "metadata": {
    "collapsed": false
   },
   "outputs": [],
   "source": [
    "y_hat = discrimModel.predict(X)"
   ]
  },
  {
   "cell_type": "code",
   "execution_count": null,
   "metadata": {
    "collapsed": false
   },
   "outputs": [],
   "source": [
    "# Measure accuracy of pre-trained discriminator network\n",
    "y_hat_idx = np.argmax(y_hat,axis=1)\n",
    "y_idx = np.argmax(y,axis=1)\n",
    "diff = y_idx-y_hat_idx\n",
    "n_tot = y.shape[0]\n",
    "n_rig = (diff==0).sum()\n",
    "acc = n_rig*100.0/n_tot\n",
    "print \"Accuracy: %0.02f pct (%d of %d) right\"%(acc, n_rig, n_tot)"
   ]
  },
  {
   "cell_type": "markdown",
   "metadata": {},
   "source": [
    "### Stacked GAN and Training"
   ]
  },
  {
   "cell_type": "code",
   "execution_count": null,
   "metadata": {
    "collapsed": true
   },
   "outputs": [],
   "source": [
    "loadWeights = True\n",
    "if loadWeights:\n",
    "    genModel.load_weights(\"dwdii-genModel-03-01.hdf5\")\n",
    "    discrimModel.load_weights(\"dwdii-discrimModel-03-01.hdf5\")\n",
    "\n",
    "# Build the stacked GAN model\n",
    "GAN = gan.buildStackedGanModel(genModel, discrimModel)\n",
    "if loadWeights:\n",
    "    GAN.load_weights(\"dwdii-GAN-03-01.hdf5\")"
   ]
  },
  {
   "cell_type": "code",
   "execution_count": null,
   "metadata": {
    "collapsed": false
   },
   "outputs": [],
   "source": [
    "gan.makeTrainable(discrimModel,False)"
   ]
  },
  {
   "cell_type": "code",
   "execution_count": null,
   "metadata": {
    "collapsed": false
   },
   "outputs": [],
   "source": [
    "gan.plotGenerative(0, genModel)"
   ]
  },
  {
   "cell_type": "code",
   "execution_count": null,
   "metadata": {
    "collapsed": false
   },
   "outputs": [],
   "source": [
    "# Train for N epochs at original learning rates\n",
    "gan.train_for_n(X_train, GAN, genModel, discrimModel, nb_epoch=6000, plt_frq=50,BATCH_SIZE=32)"
   ]
  },
  {
   "cell_type": "code",
   "execution_count": null,
   "metadata": {
    "collapsed": false
   },
   "outputs": [],
   "source": [
    "ver = \"03-02\"\n",
    "GAN.save_weights(\"dwdii-GAN-\" + ver + \".hdf5\", overwrite=True)\n",
    "discrimModel.save_weights(\"dwdii-discrimModel-\" + ver + \".hdf5\", overwrite=True)\n",
    "genModel.save_weights(\"dwdii-genModel-\" + ver + \".hdf5\", overwrite=True)"
   ]
  },
  {
   "cell_type": "code",
   "execution_count": null,
   "metadata": {
    "collapsed": true
   },
   "outputs": [],
   "source": []
  },
  {
   "cell_type": "code",
   "execution_count": null,
   "metadata": {
    "collapsed": true
   },
   "outputs": [],
   "source": []
  }
 ],
 "metadata": {
  "kernelspec": {
   "display_name": "Python 2",
   "language": "python",
   "name": "python2"
  },
  "language_info": {
   "codemirror_mode": {
    "name": "ipython",
    "version": 2
   },
   "file_extension": ".py",
   "mimetype": "text/x-python",
   "name": "python",
   "nbconvert_exporter": "python",
   "pygments_lexer": "ipython2",
   "version": "2.7.6"
  }
 },
 "nbformat": 4,
 "nbformat_minor": 0
}
