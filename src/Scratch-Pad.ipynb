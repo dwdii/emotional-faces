{
 "cells": [
  {
   "cell_type": "code",
   "execution_count": 1,
   "metadata": {
    "collapsed": true
   },
   "outputs": [],
   "source": [
    "import dwdii_transforms"
   ]
  },
  {
   "cell_type": "code",
   "execution_count": 2,
   "metadata": {
    "collapsed": false
   },
   "outputs": [
    {
     "name": "stdout",
     "output_type": "stream",
     "text": [
      "Before Balancing\n",
      "----------------\n",
      "sadness 268\n",
      "neutral 6868\n",
      "contempt 9\n",
      "disgust 208\n",
      "anger 252\n",
      "surprise 368\n",
      "fear 21\n",
      "happiness 5696\n",
      "\n",
      "After Balancing\n",
      "----------------\n",
      "sadness 268\n",
      "neutral 568\n",
      "contempt 9\n",
      "disgust 208\n",
      "anger 252\n",
      "surprise 368\n",
      "fear 21\n",
      "happiness 568\n"
     ]
    }
   ],
   "source": [
    "dataPath = \"/root/facial_expressions/data/legend.csv\"\n",
    "metaData = dwdii_transforms.load_training_metadata(dataPath, balanceViaRemoval=True, verbose=True)"
   ]
  },
  {
   "cell_type": "code",
   "execution_count": 3,
   "metadata": {
    "collapsed": false
   },
   "outputs": [
    {
     "name": "stdout",
     "output_type": "stream",
     "text": [
      "13690\n"
     ]
    }
   ],
   "source": [
    "rawCount = 268 + 6868 + 9 + 208 + 252 + 368 + 21 + 5696\n",
    "print rawCount"
   ]
  },
  {
   "cell_type": "code",
   "execution_count": 4,
   "metadata": {
    "collapsed": false
   },
   "outputs": [
    {
     "data": {
      "text/plain": [
       "0.5016800584368152"
      ]
     },
     "execution_count": 4,
     "metadata": {},
     "output_type": "execute_result"
    }
   ],
   "source": [
    "6868.0 / rawCount"
   ]
  },
  {
   "cell_type": "code",
   "execution_count": 5,
   "metadata": {
    "collapsed": false
   },
   "outputs": [
    {
     "data": {
      "text/plain": [
       "0.4160701241782323"
      ]
     },
     "execution_count": 5,
     "metadata": {},
     "output_type": "execute_result"
    }
   ],
   "source": [
    "5696.0 / rawCount"
   ]
  },
  {
   "cell_type": "code",
   "execution_count": 6,
   "metadata": {
    "collapsed": false
   },
   "outputs": [
    {
     "name": "stdout",
     "output_type": "stream",
     "text": [
      "2262\n"
     ]
    }
   ],
   "source": [
    "balancedCount = 268 + 568 + 9 + 208 + 252 + 368 + 21 + 568\n",
    "print balancedCount"
   ]
  },
  {
   "cell_type": "code",
   "execution_count": null,
   "metadata": {
    "collapsed": true
   },
   "outputs": [],
   "source": []
  }
 ],
 "metadata": {
  "kernelspec": {
   "display_name": "Python 2",
   "language": "python",
   "name": "python2"
  },
  "language_info": {
   "codemirror_mode": {
    "name": "ipython",
    "version": 2
   },
   "file_extension": ".py",
   "mimetype": "text/x-python",
   "name": "python",
   "nbconvert_exporter": "python",
   "pygments_lexer": "ipython2",
   "version": "2.7.6"
  }
 },
 "nbformat": 4,
 "nbformat_minor": 0
}
